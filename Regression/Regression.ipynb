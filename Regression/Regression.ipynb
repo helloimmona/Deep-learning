{
 "cells": [
  {
   "cell_type": "markdown",
   "metadata": {},
   "source": [
    "## Regression - Predicting continuous values"
   ]
  },
  {
   "cell_type": "code",
   "execution_count": 1,
   "metadata": {},
   "outputs": [],
   "source": [
    "from warnings import filterwarnings\n",
    "filterwarnings ('ignore')"
   ]
  },
  {
   "cell_type": "markdown",
   "metadata": {},
   "source": [
    "### Create a regression dataset"
   ]
  },
  {
   "cell_type": "code",
   "execution_count": 2,
   "metadata": {},
   "outputs": [],
   "source": [
    "from sklearn.datasets import make_regression\n",
    "X, Y = make_regression(n_samples=5000, n_features=30, n_informative=25, noise=10, random_state=42)\n"
   ]
  },
  {
   "cell_type": "code",
   "execution_count": 3,
   "metadata": {},
   "outputs": [
    {
     "data": {
      "text/plain": [
       "array([[-1.05245683, -0.94496269, -1.79989659, ..., -1.83442393,\n",
       "        -0.07956011,  1.20745263],\n",
       "       [-0.84747383,  0.31840811,  0.24796167, ..., -0.2390554 ,\n",
       "        -0.69763862,  1.31984005],\n",
       "       [-0.94602775,  0.2383774 , -1.6176638 , ..., -0.09142036,\n",
       "        -0.74652074, -2.21823553],\n",
       "       ...,\n",
       "       [-0.22097737,  1.14453288, -0.39354952, ..., -0.90184457,\n",
       "        -0.07424546, -0.2463316 ],\n",
       "       [-0.95614616,  0.03256098, -1.12885675, ..., -0.00963513,\n",
       "        -1.43734832,  0.63541106],\n",
       "       [ 1.51114116, -0.00270833, -1.26097476, ..., -0.15650465,\n",
       "         0.50981791,  1.19398227]])"
      ]
     },
     "execution_count": 3,
     "metadata": {},
     "output_type": "execute_result"
    }
   ],
   "source": [
    "X"
   ]
  },
  {
   "cell_type": "code",
   "execution_count": 4,
   "metadata": {},
   "outputs": [
    {
     "data": {
      "text/plain": [
       "(5000, 30)"
      ]
     },
     "execution_count": 4,
     "metadata": {},
     "output_type": "execute_result"
    }
   ],
   "source": [
    "X.shape"
   ]
  },
  {
   "cell_type": "code",
   "execution_count": 5,
   "metadata": {},
   "outputs": [
    {
     "data": {
      "text/plain": [
       "array([-232.93639282, -144.45063306,  -30.67109763, ...,  143.2968639 ,\n",
       "       -248.32988778,  -19.83229819])"
      ]
     },
     "execution_count": 5,
     "metadata": {},
     "output_type": "execute_result"
    }
   ],
   "source": [
    "Y"
   ]
  },
  {
   "cell_type": "markdown",
   "metadata": {},
   "source": [
    "### Save X and Y in dataframe"
   ]
  },
  {
   "cell_type": "code",
   "execution_count": 6,
   "metadata": {},
   "outputs": [
    {
     "data": {
      "text/plain": [
       "['x1',\n",
       " 'x2',\n",
       " 'x3',\n",
       " 'x4',\n",
       " 'x5',\n",
       " 'x6',\n",
       " 'x7',\n",
       " 'x8',\n",
       " 'x9',\n",
       " 'x10',\n",
       " 'x11',\n",
       " 'x12',\n",
       " 'x13',\n",
       " 'x14',\n",
       " 'x15',\n",
       " 'x16',\n",
       " 'x17',\n",
       " 'x18',\n",
       " 'x19',\n",
       " 'x20',\n",
       " 'x21',\n",
       " 'x22',\n",
       " 'x23',\n",
       " 'x24',\n",
       " 'x25',\n",
       " 'x26',\n",
       " 'x27',\n",
       " 'x28',\n",
       " 'x29',\n",
       " 'x30']"
      ]
     },
     "execution_count": 6,
     "metadata": {},
     "output_type": "execute_result"
    }
   ],
   "source": [
    "cols = [f'x{i+1}' for i in range(30)]\n",
    "cols"
   ]
  },
  {
   "cell_type": "code",
   "execution_count": 7,
   "metadata": {},
   "outputs": [
    {
     "data": {
      "text/plain": [
       "['x1',\n",
       " 'x2',\n",
       " 'x3',\n",
       " 'x4',\n",
       " 'x5',\n",
       " 'x6',\n",
       " 'x7',\n",
       " 'x8',\n",
       " 'x9',\n",
       " 'x10',\n",
       " 'x11',\n",
       " 'x12',\n",
       " 'x13',\n",
       " 'x14',\n",
       " 'x15',\n",
       " 'x16',\n",
       " 'x17',\n",
       " 'x18',\n",
       " 'x19',\n",
       " 'x20',\n",
       " 'x21',\n",
       " 'x22',\n",
       " 'x23',\n",
       " 'x24',\n",
       " 'x25',\n",
       " 'x26',\n",
       " 'x27',\n",
       " 'x28',\n",
       " 'x29',\n",
       " 'x30']"
      ]
     },
     "execution_count": 7,
     "metadata": {},
     "output_type": "execute_result"
    }
   ],
   "source": [
    "cols = [f'x{i+1}' for i in range(30)]\n",
    "cols"
   ]
  },
  {
   "cell_type": "code",
   "execution_count": 8,
   "metadata": {},
   "outputs": [
    {
     "data": {
      "text/html": [
       "<div>\n",
       "<style scoped>\n",
       "    .dataframe tbody tr th:only-of-type {\n",
       "        vertical-align: middle;\n",
       "    }\n",
       "\n",
       "    .dataframe tbody tr th {\n",
       "        vertical-align: top;\n",
       "    }\n",
       "\n",
       "    .dataframe thead th {\n",
       "        text-align: right;\n",
       "    }\n",
       "</style>\n",
       "<table border=\"1\" class=\"dataframe\">\n",
       "  <thead>\n",
       "    <tr style=\"text-align: right;\">\n",
       "      <th></th>\n",
       "      <th>x1</th>\n",
       "      <th>x2</th>\n",
       "      <th>x3</th>\n",
       "      <th>x4</th>\n",
       "      <th>x5</th>\n",
       "      <th>x6</th>\n",
       "      <th>x7</th>\n",
       "      <th>x8</th>\n",
       "      <th>x9</th>\n",
       "      <th>x10</th>\n",
       "      <th>...</th>\n",
       "      <th>x21</th>\n",
       "      <th>x22</th>\n",
       "      <th>x23</th>\n",
       "      <th>x24</th>\n",
       "      <th>x25</th>\n",
       "      <th>x26</th>\n",
       "      <th>x27</th>\n",
       "      <th>x28</th>\n",
       "      <th>x29</th>\n",
       "      <th>x30</th>\n",
       "    </tr>\n",
       "  </thead>\n",
       "  <tbody>\n",
       "    <tr>\n",
       "      <th>0</th>\n",
       "      <td>-1.052457</td>\n",
       "      <td>-0.944963</td>\n",
       "      <td>-1.799897</td>\n",
       "      <td>-0.034799</td>\n",
       "      <td>-1.482409</td>\n",
       "      <td>1.613543</td>\n",
       "      <td>-0.748163</td>\n",
       "      <td>-0.645310</td>\n",
       "      <td>1.063117</td>\n",
       "      <td>-1.335465</td>\n",
       "      <td>...</td>\n",
       "      <td>-0.398323</td>\n",
       "      <td>0.326932</td>\n",
       "      <td>2.042239</td>\n",
       "      <td>-0.301699</td>\n",
       "      <td>-1.361063</td>\n",
       "      <td>1.454857</td>\n",
       "      <td>-0.066823</td>\n",
       "      <td>-1.834424</td>\n",
       "      <td>-0.079560</td>\n",
       "      <td>1.207453</td>\n",
       "    </tr>\n",
       "    <tr>\n",
       "      <th>1</th>\n",
       "      <td>-0.847474</td>\n",
       "      <td>0.318408</td>\n",
       "      <td>0.247962</td>\n",
       "      <td>0.176165</td>\n",
       "      <td>0.550274</td>\n",
       "      <td>-0.695864</td>\n",
       "      <td>0.599538</td>\n",
       "      <td>-0.050914</td>\n",
       "      <td>1.363157</td>\n",
       "      <td>-1.201647</td>\n",
       "      <td>...</td>\n",
       "      <td>-1.368967</td>\n",
       "      <td>-0.403174</td>\n",
       "      <td>0.125837</td>\n",
       "      <td>-1.231097</td>\n",
       "      <td>-0.042579</td>\n",
       "      <td>-0.293594</td>\n",
       "      <td>-0.505876</td>\n",
       "      <td>-0.239055</td>\n",
       "      <td>-0.697639</td>\n",
       "      <td>1.319840</td>\n",
       "    </tr>\n",
       "    <tr>\n",
       "      <th>2</th>\n",
       "      <td>-0.946028</td>\n",
       "      <td>0.238377</td>\n",
       "      <td>-1.617664</td>\n",
       "      <td>-2.253756</td>\n",
       "      <td>-1.057629</td>\n",
       "      <td>-0.011553</td>\n",
       "      <td>1.400647</td>\n",
       "      <td>0.990803</td>\n",
       "      <td>-0.262228</td>\n",
       "      <td>-0.396235</td>\n",
       "      <td>...</td>\n",
       "      <td>-0.400736</td>\n",
       "      <td>0.007432</td>\n",
       "      <td>0.219753</td>\n",
       "      <td>2.205187</td>\n",
       "      <td>0.746020</td>\n",
       "      <td>-0.175596</td>\n",
       "      <td>-1.132978</td>\n",
       "      <td>-0.091420</td>\n",
       "      <td>-0.746521</td>\n",
       "      <td>-2.218236</td>\n",
       "    </tr>\n",
       "    <tr>\n",
       "      <th>3</th>\n",
       "      <td>-0.365222</td>\n",
       "      <td>0.004347</td>\n",
       "      <td>1.459301</td>\n",
       "      <td>1.650519</td>\n",
       "      <td>-3.114990</td>\n",
       "      <td>0.718841</td>\n",
       "      <td>1.669763</td>\n",
       "      <td>0.594568</td>\n",
       "      <td>0.350614</td>\n",
       "      <td>-0.528732</td>\n",
       "      <td>...</td>\n",
       "      <td>0.587610</td>\n",
       "      <td>0.050495</td>\n",
       "      <td>0.692244</td>\n",
       "      <td>0.492412</td>\n",
       "      <td>-0.118160</td>\n",
       "      <td>0.151945</td>\n",
       "      <td>-0.299890</td>\n",
       "      <td>1.009559</td>\n",
       "      <td>-0.779756</td>\n",
       "      <td>1.105541</td>\n",
       "    </tr>\n",
       "    <tr>\n",
       "      <th>4</th>\n",
       "      <td>-0.937119</td>\n",
       "      <td>0.038862</td>\n",
       "      <td>0.267291</td>\n",
       "      <td>-2.321520</td>\n",
       "      <td>-0.519995</td>\n",
       "      <td>1.281711</td>\n",
       "      <td>-0.447109</td>\n",
       "      <td>1.847404</td>\n",
       "      <td>-0.179080</td>\n",
       "      <td>0.073799</td>\n",
       "      <td>...</td>\n",
       "      <td>-0.985717</td>\n",
       "      <td>0.734585</td>\n",
       "      <td>-0.870311</td>\n",
       "      <td>0.316585</td>\n",
       "      <td>0.373045</td>\n",
       "      <td>-0.594102</td>\n",
       "      <td>-1.388615</td>\n",
       "      <td>1.262913</td>\n",
       "      <td>-0.668793</td>\n",
       "      <td>-0.049186</td>\n",
       "    </tr>\n",
       "  </tbody>\n",
       "</table>\n",
       "<p>5 rows × 30 columns</p>\n",
       "</div>"
      ],
      "text/plain": [
       "         x1        x2        x3        x4        x5        x6        x7  \\\n",
       "0 -1.052457 -0.944963 -1.799897 -0.034799 -1.482409  1.613543 -0.748163   \n",
       "1 -0.847474  0.318408  0.247962  0.176165  0.550274 -0.695864  0.599538   \n",
       "2 -0.946028  0.238377 -1.617664 -2.253756 -1.057629 -0.011553  1.400647   \n",
       "3 -0.365222  0.004347  1.459301  1.650519 -3.114990  0.718841  1.669763   \n",
       "4 -0.937119  0.038862  0.267291 -2.321520 -0.519995  1.281711 -0.447109   \n",
       "\n",
       "         x8        x9       x10  ...       x21       x22       x23       x24  \\\n",
       "0 -0.645310  1.063117 -1.335465  ... -0.398323  0.326932  2.042239 -0.301699   \n",
       "1 -0.050914  1.363157 -1.201647  ... -1.368967 -0.403174  0.125837 -1.231097   \n",
       "2  0.990803 -0.262228 -0.396235  ... -0.400736  0.007432  0.219753  2.205187   \n",
       "3  0.594568  0.350614 -0.528732  ...  0.587610  0.050495  0.692244  0.492412   \n",
       "4  1.847404 -0.179080  0.073799  ... -0.985717  0.734585 -0.870311  0.316585   \n",
       "\n",
       "        x25       x26       x27       x28       x29       x30  \n",
       "0 -1.361063  1.454857 -0.066823 -1.834424 -0.079560  1.207453  \n",
       "1 -0.042579 -0.293594 -0.505876 -0.239055 -0.697639  1.319840  \n",
       "2  0.746020 -0.175596 -1.132978 -0.091420 -0.746521 -2.218236  \n",
       "3 -0.118160  0.151945 -0.299890  1.009559 -0.779756  1.105541  \n",
       "4  0.373045 -0.594102 -1.388615  1.262913 -0.668793 -0.049186  \n",
       "\n",
       "[5 rows x 30 columns]"
      ]
     },
     "execution_count": 8,
     "metadata": {},
     "output_type": "execute_result"
    }
   ],
   "source": [
    "import pandas as pd\n",
    "X = pd.DataFrame(X, columns = cols)\n",
    "X.head()"
   ]
  },
  {
   "cell_type": "code",
   "execution_count": 9,
   "metadata": {},
   "outputs": [],
   "source": [
    "Y = pd.DataFrame(Y, columns=['Y'])\n",
    "                 "
   ]
  },
  {
   "cell_type": "code",
   "execution_count": 10,
   "metadata": {},
   "outputs": [
    {
     "data": {
      "text/html": [
       "<div>\n",
       "<style scoped>\n",
       "    .dataframe tbody tr th:only-of-type {\n",
       "        vertical-align: middle;\n",
       "    }\n",
       "\n",
       "    .dataframe tbody tr th {\n",
       "        vertical-align: top;\n",
       "    }\n",
       "\n",
       "    .dataframe thead th {\n",
       "        text-align: right;\n",
       "    }\n",
       "</style>\n",
       "<table border=\"1\" class=\"dataframe\">\n",
       "  <thead>\n",
       "    <tr style=\"text-align: right;\">\n",
       "      <th></th>\n",
       "      <th>Y</th>\n",
       "    </tr>\n",
       "  </thead>\n",
       "  <tbody>\n",
       "    <tr>\n",
       "      <th>0</th>\n",
       "      <td>-232.936393</td>\n",
       "    </tr>\n",
       "    <tr>\n",
       "      <th>1</th>\n",
       "      <td>-144.450633</td>\n",
       "    </tr>\n",
       "    <tr>\n",
       "      <th>2</th>\n",
       "      <td>-30.671098</td>\n",
       "    </tr>\n",
       "    <tr>\n",
       "      <th>3</th>\n",
       "      <td>165.764197</td>\n",
       "    </tr>\n",
       "    <tr>\n",
       "      <th>4</th>\n",
       "      <td>-252.068764</td>\n",
       "    </tr>\n",
       "    <tr>\n",
       "      <th>...</th>\n",
       "      <td>...</td>\n",
       "    </tr>\n",
       "    <tr>\n",
       "      <th>4995</th>\n",
       "      <td>337.924300</td>\n",
       "    </tr>\n",
       "    <tr>\n",
       "      <th>4996</th>\n",
       "      <td>587.266360</td>\n",
       "    </tr>\n",
       "    <tr>\n",
       "      <th>4997</th>\n",
       "      <td>143.296864</td>\n",
       "    </tr>\n",
       "    <tr>\n",
       "      <th>4998</th>\n",
       "      <td>-248.329888</td>\n",
       "    </tr>\n",
       "    <tr>\n",
       "      <th>4999</th>\n",
       "      <td>-19.832298</td>\n",
       "    </tr>\n",
       "  </tbody>\n",
       "</table>\n",
       "<p>5000 rows × 1 columns</p>\n",
       "</div>"
      ],
      "text/plain": [
       "               Y\n",
       "0    -232.936393\n",
       "1    -144.450633\n",
       "2     -30.671098\n",
       "3     165.764197\n",
       "4    -252.068764\n",
       "...          ...\n",
       "4995  337.924300\n",
       "4996  587.266360\n",
       "4997  143.296864\n",
       "4998 -248.329888\n",
       "4999  -19.832298\n",
       "\n",
       "[5000 rows x 1 columns]"
      ]
     },
     "execution_count": 10,
     "metadata": {},
     "output_type": "execute_result"
    }
   ],
   "source": [
    "Y"
   ]
  },
  {
   "cell_type": "markdown",
   "metadata": {},
   "source": [
    "### Create a preprocessing pipeline for X"
   ]
  },
  {
   "cell_type": "code",
   "execution_count": 11,
   "metadata": {},
   "outputs": [],
   "source": [
    "from sklearn.pipeline import Pipeline\n",
    "from sklearn.impute import SimpleImputer\n",
    "from sklearn.preprocessing import StandardScaler"
   ]
  },
  {
   "cell_type": "code",
   "execution_count": 12,
   "metadata": {},
   "outputs": [],
   "source": [
    "num_pipe = Pipeline(steps=[( 'impute', SimpleImputer(strategy='mean')),\n",
    "                           ('scalar', StandardScaler())])"
   ]
  },
  {
   "cell_type": "code",
   "execution_count": 13,
   "metadata": {},
   "outputs": [
    {
     "data": {
      "text/plain": [
       "array([[-1.00877542, -0.96849615, -1.8356222 , ..., -1.84743596,\n",
       "        -0.06441693,  1.19633814],\n",
       "       [-0.80656544,  0.30321775,  0.22782616, ..., -0.25077076,\n",
       "        -0.67948802,  1.30863615],\n",
       "       [-0.90378611,  0.22265853, -1.6520021 , ..., -0.10301574,\n",
       "        -0.72813229, -2.22662492],\n",
       "       ...,\n",
       "       [-0.1885443 ,  1.13479811, -0.41856878, ..., -0.91409862,\n",
       "        -0.05912814, -0.25628963],\n",
       "       [-0.91376764,  0.01548293, -1.15947382, ..., -0.02116403,\n",
       "        -1.41559849,  0.62475162],\n",
       "       [ 1.52014196, -0.02001929, -1.29259762, ..., -0.16815292,\n",
       "         0.52209333,  1.18287849]])"
      ]
     },
     "execution_count": 13,
     "metadata": {},
     "output_type": "execute_result"
    }
   ],
   "source": [
    "X_pre = num_pipe.fit_transform(X)\n",
    "X_pre"
   ]
  },
  {
   "cell_type": "code",
   "execution_count": 14,
   "metadata": {},
   "outputs": [],
   "source": [
    "cols = num_pipe.get_feature_names_out()"
   ]
  },
  {
   "cell_type": "code",
   "execution_count": 15,
   "metadata": {},
   "outputs": [
    {
     "data": {
      "text/plain": [
       "array(['x1', 'x2', 'x3', 'x4', 'x5', 'x6', 'x7', 'x8', 'x9', 'x10', 'x11',\n",
       "       'x12', 'x13', 'x14', 'x15', 'x16', 'x17', 'x18', 'x19', 'x20',\n",
       "       'x21', 'x22', 'x23', 'x24', 'x25', 'x26', 'x27', 'x28', 'x29',\n",
       "       'x30'], dtype=object)"
      ]
     },
     "execution_count": 15,
     "metadata": {},
     "output_type": "execute_result"
    }
   ],
   "source": [
    "cols"
   ]
  },
  {
   "cell_type": "code",
   "execution_count": 16,
   "metadata": {},
   "outputs": [
    {
     "data": {
      "text/html": [
       "<div>\n",
       "<style scoped>\n",
       "    .dataframe tbody tr th:only-of-type {\n",
       "        vertical-align: middle;\n",
       "    }\n",
       "\n",
       "    .dataframe tbody tr th {\n",
       "        vertical-align: top;\n",
       "    }\n",
       "\n",
       "    .dataframe thead th {\n",
       "        text-align: right;\n",
       "    }\n",
       "</style>\n",
       "<table border=\"1\" class=\"dataframe\">\n",
       "  <thead>\n",
       "    <tr style=\"text-align: right;\">\n",
       "      <th></th>\n",
       "      <th>x1</th>\n",
       "      <th>x2</th>\n",
       "      <th>x3</th>\n",
       "      <th>x4</th>\n",
       "      <th>x5</th>\n",
       "      <th>x6</th>\n",
       "      <th>x7</th>\n",
       "      <th>x8</th>\n",
       "      <th>x9</th>\n",
       "      <th>x10</th>\n",
       "      <th>...</th>\n",
       "      <th>x21</th>\n",
       "      <th>x22</th>\n",
       "      <th>x23</th>\n",
       "      <th>x24</th>\n",
       "      <th>x25</th>\n",
       "      <th>x26</th>\n",
       "      <th>x27</th>\n",
       "      <th>x28</th>\n",
       "      <th>x29</th>\n",
       "      <th>x30</th>\n",
       "    </tr>\n",
       "  </thead>\n",
       "  <tbody>\n",
       "    <tr>\n",
       "      <th>0</th>\n",
       "      <td>-1.008775</td>\n",
       "      <td>-0.968496</td>\n",
       "      <td>-1.835622</td>\n",
       "      <td>-0.032196</td>\n",
       "      <td>-1.485420</td>\n",
       "      <td>1.614947</td>\n",
       "      <td>-0.747164</td>\n",
       "      <td>-0.627734</td>\n",
       "      <td>1.038359</td>\n",
       "      <td>-1.340893</td>\n",
       "      <td>...</td>\n",
       "      <td>-0.418507</td>\n",
       "      <td>0.322752</td>\n",
       "      <td>2.071710</td>\n",
       "      <td>-0.324901</td>\n",
       "      <td>-1.342910</td>\n",
       "      <td>1.406812</td>\n",
       "      <td>-0.052268</td>\n",
       "      <td>-1.847436</td>\n",
       "      <td>-0.064417</td>\n",
       "      <td>1.196338</td>\n",
       "    </tr>\n",
       "    <tr>\n",
       "      <th>1</th>\n",
       "      <td>-0.806565</td>\n",
       "      <td>0.303218</td>\n",
       "      <td>0.227826</td>\n",
       "      <td>0.179320</td>\n",
       "      <td>0.577043</td>\n",
       "      <td>-0.684461</td>\n",
       "      <td>0.585446</td>\n",
       "      <td>-0.053781</td>\n",
       "      <td>1.334905</td>\n",
       "      <td>-1.205877</td>\n",
       "      <td>...</td>\n",
       "      <td>-1.393646</td>\n",
       "      <td>-0.402106</td>\n",
       "      <td>0.132047</td>\n",
       "      <td>-1.271369</td>\n",
       "      <td>-0.027103</td>\n",
       "      <td>-0.319448</td>\n",
       "      <td>-0.496045</td>\n",
       "      <td>-0.250771</td>\n",
       "      <td>-0.679488</td>\n",
       "      <td>1.308636</td>\n",
       "    </tr>\n",
       "    <tr>\n",
       "      <th>2</th>\n",
       "      <td>-0.903786</td>\n",
       "      <td>0.222659</td>\n",
       "      <td>-1.652002</td>\n",
       "      <td>-2.256956</td>\n",
       "      <td>-1.054417</td>\n",
       "      <td>-0.003112</td>\n",
       "      <td>1.377584</td>\n",
       "      <td>0.952108</td>\n",
       "      <td>-0.271556</td>\n",
       "      <td>-0.393252</td>\n",
       "      <td>...</td>\n",
       "      <td>-0.420931</td>\n",
       "      <td>0.005548</td>\n",
       "      <td>0.227103</td>\n",
       "      <td>2.228029</td>\n",
       "      <td>0.759895</td>\n",
       "      <td>-0.202948</td>\n",
       "      <td>-1.129894</td>\n",
       "      <td>-0.103016</td>\n",
       "      <td>-0.728132</td>\n",
       "      <td>-2.226625</td>\n",
       "    </tr>\n",
       "    <tr>\n",
       "      <th>3</th>\n",
       "      <td>-0.330838</td>\n",
       "      <td>-0.012918</td>\n",
       "      <td>1.448387</td>\n",
       "      <td>1.657530</td>\n",
       "      <td>-3.141920</td>\n",
       "      <td>0.724120</td>\n",
       "      <td>1.643688</td>\n",
       "      <td>0.569500</td>\n",
       "      <td>0.334151</td>\n",
       "      <td>-0.526935</td>\n",
       "      <td>...</td>\n",
       "      <td>0.571991</td>\n",
       "      <td>0.048302</td>\n",
       "      <td>0.705328</td>\n",
       "      <td>0.483796</td>\n",
       "      <td>-0.102530</td>\n",
       "      <td>0.120436</td>\n",
       "      <td>-0.287843</td>\n",
       "      <td>0.998859</td>\n",
       "      <td>-0.761205</td>\n",
       "      <td>1.094508</td>\n",
       "    </tr>\n",
       "    <tr>\n",
       "      <th>4</th>\n",
       "      <td>-0.894998</td>\n",
       "      <td>0.021825</td>\n",
       "      <td>0.247303</td>\n",
       "      <td>-2.324897</td>\n",
       "      <td>-0.508906</td>\n",
       "      <td>1.284552</td>\n",
       "      <td>-0.449481</td>\n",
       "      <td>1.779248</td>\n",
       "      <td>-0.189376</td>\n",
       "      <td>0.080993</td>\n",
       "      <td>...</td>\n",
       "      <td>-1.008621</td>\n",
       "      <td>0.727476</td>\n",
       "      <td>-0.876193</td>\n",
       "      <td>0.304739</td>\n",
       "      <td>0.387677</td>\n",
       "      <td>-0.616143</td>\n",
       "      <td>-1.388281</td>\n",
       "      <td>1.252419</td>\n",
       "      <td>-0.650783</td>\n",
       "      <td>-0.059300</td>\n",
       "    </tr>\n",
       "  </tbody>\n",
       "</table>\n",
       "<p>5 rows × 30 columns</p>\n",
       "</div>"
      ],
      "text/plain": [
       "         x1        x2        x3        x4        x5        x6        x7  \\\n",
       "0 -1.008775 -0.968496 -1.835622 -0.032196 -1.485420  1.614947 -0.747164   \n",
       "1 -0.806565  0.303218  0.227826  0.179320  0.577043 -0.684461  0.585446   \n",
       "2 -0.903786  0.222659 -1.652002 -2.256956 -1.054417 -0.003112  1.377584   \n",
       "3 -0.330838 -0.012918  1.448387  1.657530 -3.141920  0.724120  1.643688   \n",
       "4 -0.894998  0.021825  0.247303 -2.324897 -0.508906  1.284552 -0.449481   \n",
       "\n",
       "         x8        x9       x10  ...       x21       x22       x23       x24  \\\n",
       "0 -0.627734  1.038359 -1.340893  ... -0.418507  0.322752  2.071710 -0.324901   \n",
       "1 -0.053781  1.334905 -1.205877  ... -1.393646 -0.402106  0.132047 -1.271369   \n",
       "2  0.952108 -0.271556 -0.393252  ... -0.420931  0.005548  0.227103  2.228029   \n",
       "3  0.569500  0.334151 -0.526935  ...  0.571991  0.048302  0.705328  0.483796   \n",
       "4  1.779248 -0.189376  0.080993  ... -1.008621  0.727476 -0.876193  0.304739   \n",
       "\n",
       "        x25       x26       x27       x28       x29       x30  \n",
       "0 -1.342910  1.406812 -0.052268 -1.847436 -0.064417  1.196338  \n",
       "1 -0.027103 -0.319448 -0.496045 -0.250771 -0.679488  1.308636  \n",
       "2  0.759895 -0.202948 -1.129894 -0.103016 -0.728132 -2.226625  \n",
       "3 -0.102530  0.120436 -0.287843  0.998859 -0.761205  1.094508  \n",
       "4  0.387677 -0.616143 -1.388281  1.252419 -0.650783 -0.059300  \n",
       "\n",
       "[5 rows x 30 columns]"
      ]
     },
     "execution_count": 16,
     "metadata": {},
     "output_type": "execute_result"
    }
   ],
   "source": [
    "X_pre = pd.DataFrame(X_pre, columns=cols)\n",
    "X_pre.head()"
   ]
  },
  {
   "cell_type": "markdown",
   "metadata": {},
   "source": [
    "### Train Test split"
   ]
  },
  {
   "cell_type": "code",
   "execution_count": 17,
   "metadata": {},
   "outputs": [],
   "source": [
    "from sklearn.model_selection import train_test_split\n",
    "xtrain, xtest, ytrain, ytest = train_test_split(X_pre, Y, test_size=0.2, random_state=42)"
   ]
  },
  {
   "cell_type": "code",
   "execution_count": 18,
   "metadata": {},
   "outputs": [
    {
     "data": {
      "text/html": [
       "<div>\n",
       "<style scoped>\n",
       "    .dataframe tbody tr th:only-of-type {\n",
       "        vertical-align: middle;\n",
       "    }\n",
       "\n",
       "    .dataframe tbody tr th {\n",
       "        vertical-align: top;\n",
       "    }\n",
       "\n",
       "    .dataframe thead th {\n",
       "        text-align: right;\n",
       "    }\n",
       "</style>\n",
       "<table border=\"1\" class=\"dataframe\">\n",
       "  <thead>\n",
       "    <tr style=\"text-align: right;\">\n",
       "      <th></th>\n",
       "      <th>x1</th>\n",
       "      <th>x2</th>\n",
       "      <th>x3</th>\n",
       "      <th>x4</th>\n",
       "      <th>x5</th>\n",
       "      <th>x6</th>\n",
       "      <th>x7</th>\n",
       "      <th>x8</th>\n",
       "      <th>x9</th>\n",
       "      <th>x10</th>\n",
       "      <th>...</th>\n",
       "      <th>x21</th>\n",
       "      <th>x22</th>\n",
       "      <th>x23</th>\n",
       "      <th>x24</th>\n",
       "      <th>x25</th>\n",
       "      <th>x26</th>\n",
       "      <th>x27</th>\n",
       "      <th>x28</th>\n",
       "      <th>x29</th>\n",
       "      <th>x30</th>\n",
       "    </tr>\n",
       "  </thead>\n",
       "  <tbody>\n",
       "    <tr>\n",
       "      <th>4227</th>\n",
       "      <td>0.274306</td>\n",
       "      <td>-2.243030</td>\n",
       "      <td>0.307393</td>\n",
       "      <td>2.279325</td>\n",
       "      <td>-0.849919</td>\n",
       "      <td>-0.499417</td>\n",
       "      <td>0.063387</td>\n",
       "      <td>0.322236</td>\n",
       "      <td>-0.279113</td>\n",
       "      <td>-1.485297</td>\n",
       "      <td>...</td>\n",
       "      <td>-0.435550</td>\n",
       "      <td>0.016456</td>\n",
       "      <td>-0.478773</td>\n",
       "      <td>0.826978</td>\n",
       "      <td>0.348374</td>\n",
       "      <td>0.203044</td>\n",
       "      <td>-0.974020</td>\n",
       "      <td>1.133163</td>\n",
       "      <td>0.644459</td>\n",
       "      <td>1.026561</td>\n",
       "    </tr>\n",
       "    <tr>\n",
       "      <th>4676</th>\n",
       "      <td>-0.110889</td>\n",
       "      <td>-2.308274</td>\n",
       "      <td>-0.306657</td>\n",
       "      <td>-2.797217</td>\n",
       "      <td>0.744218</td>\n",
       "      <td>-1.215240</td>\n",
       "      <td>0.092720</td>\n",
       "      <td>-0.881949</td>\n",
       "      <td>0.099739</td>\n",
       "      <td>-0.153516</td>\n",
       "      <td>...</td>\n",
       "      <td>0.684150</td>\n",
       "      <td>-0.050237</td>\n",
       "      <td>0.659385</td>\n",
       "      <td>0.950390</td>\n",
       "      <td>-2.264741</td>\n",
       "      <td>-0.934321</td>\n",
       "      <td>-0.207092</td>\n",
       "      <td>-1.429908</td>\n",
       "      <td>0.477449</td>\n",
       "      <td>-0.143864</td>\n",
       "    </tr>\n",
       "    <tr>\n",
       "      <th>800</th>\n",
       "      <td>-0.534724</td>\n",
       "      <td>0.341340</td>\n",
       "      <td>-0.318392</td>\n",
       "      <td>1.233363</td>\n",
       "      <td>1.778518</td>\n",
       "      <td>0.298750</td>\n",
       "      <td>0.083038</td>\n",
       "      <td>0.104657</td>\n",
       "      <td>0.121582</td>\n",
       "      <td>1.150535</td>\n",
       "      <td>...</td>\n",
       "      <td>2.105502</td>\n",
       "      <td>0.100787</td>\n",
       "      <td>0.150310</td>\n",
       "      <td>0.796843</td>\n",
       "      <td>0.088543</td>\n",
       "      <td>1.044029</td>\n",
       "      <td>-0.691462</td>\n",
       "      <td>0.027791</td>\n",
       "      <td>-0.467562</td>\n",
       "      <td>1.088671</td>\n",
       "    </tr>\n",
       "    <tr>\n",
       "      <th>3671</th>\n",
       "      <td>-0.366200</td>\n",
       "      <td>1.081039</td>\n",
       "      <td>-0.920495</td>\n",
       "      <td>-1.060692</td>\n",
       "      <td>-0.616689</td>\n",
       "      <td>0.923926</td>\n",
       "      <td>1.178280</td>\n",
       "      <td>-2.049797</td>\n",
       "      <td>-0.133985</td>\n",
       "      <td>-1.437462</td>\n",
       "      <td>...</td>\n",
       "      <td>0.375930</td>\n",
       "      <td>0.799287</td>\n",
       "      <td>-1.524107</td>\n",
       "      <td>-0.213573</td>\n",
       "      <td>1.841831</td>\n",
       "      <td>-0.235666</td>\n",
       "      <td>-1.623648</td>\n",
       "      <td>0.003545</td>\n",
       "      <td>2.453793</td>\n",
       "      <td>-0.826658</td>\n",
       "    </tr>\n",
       "    <tr>\n",
       "      <th>4193</th>\n",
       "      <td>-0.834782</td>\n",
       "      <td>1.471498</td>\n",
       "      <td>-1.414701</td>\n",
       "      <td>-0.704299</td>\n",
       "      <td>2.131088</td>\n",
       "      <td>-0.208189</td>\n",
       "      <td>0.823199</td>\n",
       "      <td>0.547557</td>\n",
       "      <td>0.462746</td>\n",
       "      <td>-1.556602</td>\n",
       "      <td>...</td>\n",
       "      <td>-1.605144</td>\n",
       "      <td>0.394171</td>\n",
       "      <td>0.414800</td>\n",
       "      <td>0.015313</td>\n",
       "      <td>-1.559552</td>\n",
       "      <td>0.776827</td>\n",
       "      <td>-1.919909</td>\n",
       "      <td>1.235952</td>\n",
       "      <td>-1.425568</td>\n",
       "      <td>0.749621</td>\n",
       "    </tr>\n",
       "  </tbody>\n",
       "</table>\n",
       "<p>5 rows × 30 columns</p>\n",
       "</div>"
      ],
      "text/plain": [
       "            x1        x2        x3        x4        x5        x6        x7  \\\n",
       "4227  0.274306 -2.243030  0.307393  2.279325 -0.849919 -0.499417  0.063387   \n",
       "4676 -0.110889 -2.308274 -0.306657 -2.797217  0.744218 -1.215240  0.092720   \n",
       "800  -0.534724  0.341340 -0.318392  1.233363  1.778518  0.298750  0.083038   \n",
       "3671 -0.366200  1.081039 -0.920495 -1.060692 -0.616689  0.923926  1.178280   \n",
       "4193 -0.834782  1.471498 -1.414701 -0.704299  2.131088 -0.208189  0.823199   \n",
       "\n",
       "            x8        x9       x10  ...       x21       x22       x23  \\\n",
       "4227  0.322236 -0.279113 -1.485297  ... -0.435550  0.016456 -0.478773   \n",
       "4676 -0.881949  0.099739 -0.153516  ...  0.684150 -0.050237  0.659385   \n",
       "800   0.104657  0.121582  1.150535  ...  2.105502  0.100787  0.150310   \n",
       "3671 -2.049797 -0.133985 -1.437462  ...  0.375930  0.799287 -1.524107   \n",
       "4193  0.547557  0.462746 -1.556602  ... -1.605144  0.394171  0.414800   \n",
       "\n",
       "           x24       x25       x26       x27       x28       x29       x30  \n",
       "4227  0.826978  0.348374  0.203044 -0.974020  1.133163  0.644459  1.026561  \n",
       "4676  0.950390 -2.264741 -0.934321 -0.207092 -1.429908  0.477449 -0.143864  \n",
       "800   0.796843  0.088543  1.044029 -0.691462  0.027791 -0.467562  1.088671  \n",
       "3671 -0.213573  1.841831 -0.235666 -1.623648  0.003545  2.453793 -0.826658  \n",
       "4193  0.015313 -1.559552  0.776827 -1.919909  1.235952 -1.425568  0.749621  \n",
       "\n",
       "[5 rows x 30 columns]"
      ]
     },
     "execution_count": 18,
     "metadata": {},
     "output_type": "execute_result"
    }
   ],
   "source": [
    "xtrain.head()"
   ]
  },
  {
   "cell_type": "code",
   "execution_count": 19,
   "metadata": {},
   "outputs": [
    {
     "data": {
      "text/html": [
       "<div>\n",
       "<style scoped>\n",
       "    .dataframe tbody tr th:only-of-type {\n",
       "        vertical-align: middle;\n",
       "    }\n",
       "\n",
       "    .dataframe tbody tr th {\n",
       "        vertical-align: top;\n",
       "    }\n",
       "\n",
       "    .dataframe thead th {\n",
       "        text-align: right;\n",
       "    }\n",
       "</style>\n",
       "<table border=\"1\" class=\"dataframe\">\n",
       "  <thead>\n",
       "    <tr style=\"text-align: right;\">\n",
       "      <th></th>\n",
       "      <th>Y</th>\n",
       "    </tr>\n",
       "  </thead>\n",
       "  <tbody>\n",
       "    <tr>\n",
       "      <th>4227</th>\n",
       "      <td>421.295025</td>\n",
       "    </tr>\n",
       "    <tr>\n",
       "      <th>4676</th>\n",
       "      <td>-469.452726</td>\n",
       "    </tr>\n",
       "    <tr>\n",
       "      <th>800</th>\n",
       "      <td>42.172815</td>\n",
       "    </tr>\n",
       "    <tr>\n",
       "      <th>3671</th>\n",
       "      <td>114.083914</td>\n",
       "    </tr>\n",
       "    <tr>\n",
       "      <th>4193</th>\n",
       "      <td>-217.535707</td>\n",
       "    </tr>\n",
       "  </tbody>\n",
       "</table>\n",
       "</div>"
      ],
      "text/plain": [
       "               Y\n",
       "4227  421.295025\n",
       "4676 -469.452726\n",
       "800    42.172815\n",
       "3671  114.083914\n",
       "4193 -217.535707"
      ]
     },
     "execution_count": 19,
     "metadata": {},
     "output_type": "execute_result"
    }
   ],
   "source": [
    "ytrain.head()"
   ]
  },
  {
   "cell_type": "code",
   "execution_count": 20,
   "metadata": {},
   "outputs": [
    {
     "data": {
      "text/html": [
       "<div>\n",
       "<style scoped>\n",
       "    .dataframe tbody tr th:only-of-type {\n",
       "        vertical-align: middle;\n",
       "    }\n",
       "\n",
       "    .dataframe tbody tr th {\n",
       "        vertical-align: top;\n",
       "    }\n",
       "\n",
       "    .dataframe thead th {\n",
       "        text-align: right;\n",
       "    }\n",
       "</style>\n",
       "<table border=\"1\" class=\"dataframe\">\n",
       "  <thead>\n",
       "    <tr style=\"text-align: right;\">\n",
       "      <th></th>\n",
       "      <th>x1</th>\n",
       "      <th>x2</th>\n",
       "      <th>x3</th>\n",
       "      <th>x4</th>\n",
       "      <th>x5</th>\n",
       "      <th>x6</th>\n",
       "      <th>x7</th>\n",
       "      <th>x8</th>\n",
       "      <th>x9</th>\n",
       "      <th>x10</th>\n",
       "      <th>...</th>\n",
       "      <th>x21</th>\n",
       "      <th>x22</th>\n",
       "      <th>x23</th>\n",
       "      <th>x24</th>\n",
       "      <th>x25</th>\n",
       "      <th>x26</th>\n",
       "      <th>x27</th>\n",
       "      <th>x28</th>\n",
       "      <th>x29</th>\n",
       "      <th>x30</th>\n",
       "    </tr>\n",
       "  </thead>\n",
       "  <tbody>\n",
       "    <tr>\n",
       "      <th>1501</th>\n",
       "      <td>0.523841</td>\n",
       "      <td>0.380018</td>\n",
       "      <td>1.397668</td>\n",
       "      <td>1.832757</td>\n",
       "      <td>-0.050539</td>\n",
       "      <td>-0.370155</td>\n",
       "      <td>-0.415394</td>\n",
       "      <td>-1.015830</td>\n",
       "      <td>-0.468665</td>\n",
       "      <td>1.118904</td>\n",
       "      <td>...</td>\n",
       "      <td>-1.087076</td>\n",
       "      <td>0.280815</td>\n",
       "      <td>1.197157</td>\n",
       "      <td>-0.330182</td>\n",
       "      <td>-0.384110</td>\n",
       "      <td>0.456972</td>\n",
       "      <td>0.408793</td>\n",
       "      <td>0.229924</td>\n",
       "      <td>0.065080</td>\n",
       "      <td>-0.460325</td>\n",
       "    </tr>\n",
       "    <tr>\n",
       "      <th>2586</th>\n",
       "      <td>0.427962</td>\n",
       "      <td>0.736934</td>\n",
       "      <td>-1.337873</td>\n",
       "      <td>-0.286005</td>\n",
       "      <td>1.022151</td>\n",
       "      <td>-1.001614</td>\n",
       "      <td>1.835519</td>\n",
       "      <td>-1.545811</td>\n",
       "      <td>0.770498</td>\n",
       "      <td>0.293343</td>\n",
       "      <td>...</td>\n",
       "      <td>-0.316910</td>\n",
       "      <td>0.912012</td>\n",
       "      <td>-0.200186</td>\n",
       "      <td>0.895191</td>\n",
       "      <td>-1.340780</td>\n",
       "      <td>-0.398981</td>\n",
       "      <td>-1.299802</td>\n",
       "      <td>-1.160043</td>\n",
       "      <td>0.238474</td>\n",
       "      <td>-0.353788</td>\n",
       "    </tr>\n",
       "    <tr>\n",
       "      <th>2653</th>\n",
       "      <td>-1.237790</td>\n",
       "      <td>0.022987</td>\n",
       "      <td>0.591727</td>\n",
       "      <td>0.153331</td>\n",
       "      <td>-1.080162</td>\n",
       "      <td>0.695919</td>\n",
       "      <td>-0.224618</td>\n",
       "      <td>-1.372016</td>\n",
       "      <td>-0.465166</td>\n",
       "      <td>2.577988</td>\n",
       "      <td>...</td>\n",
       "      <td>0.420588</td>\n",
       "      <td>-0.927035</td>\n",
       "      <td>-1.260994</td>\n",
       "      <td>-0.041976</td>\n",
       "      <td>0.559996</td>\n",
       "      <td>-0.025339</td>\n",
       "      <td>0.715960</td>\n",
       "      <td>-2.211627</td>\n",
       "      <td>-0.158048</td>\n",
       "      <td>0.088334</td>\n",
       "    </tr>\n",
       "    <tr>\n",
       "      <th>1055</th>\n",
       "      <td>1.163302</td>\n",
       "      <td>0.829281</td>\n",
       "      <td>-0.052936</td>\n",
       "      <td>0.871349</td>\n",
       "      <td>0.526932</td>\n",
       "      <td>-0.469475</td>\n",
       "      <td>0.681055</td>\n",
       "      <td>2.525169</td>\n",
       "      <td>0.805937</td>\n",
       "      <td>-0.311984</td>\n",
       "      <td>...</td>\n",
       "      <td>-0.363881</td>\n",
       "      <td>-1.270352</td>\n",
       "      <td>-0.114835</td>\n",
       "      <td>-0.838927</td>\n",
       "      <td>0.522602</td>\n",
       "      <td>0.531030</td>\n",
       "      <td>-0.113249</td>\n",
       "      <td>-0.130759</td>\n",
       "      <td>-1.530358</td>\n",
       "      <td>0.355058</td>\n",
       "    </tr>\n",
       "    <tr>\n",
       "      <th>705</th>\n",
       "      <td>-0.916867</td>\n",
       "      <td>-0.873641</td>\n",
       "      <td>0.964425</td>\n",
       "      <td>-3.404521</td>\n",
       "      <td>-0.352093</td>\n",
       "      <td>0.141089</td>\n",
       "      <td>0.059867</td>\n",
       "      <td>-0.401822</td>\n",
       "      <td>0.274345</td>\n",
       "      <td>1.985234</td>\n",
       "      <td>...</td>\n",
       "      <td>-0.846910</td>\n",
       "      <td>1.259358</td>\n",
       "      <td>-0.624477</td>\n",
       "      <td>0.947502</td>\n",
       "      <td>0.249482</td>\n",
       "      <td>-0.340038</td>\n",
       "      <td>-0.624088</td>\n",
       "      <td>0.983280</td>\n",
       "      <td>1.321964</td>\n",
       "      <td>0.613101</td>\n",
       "    </tr>\n",
       "  </tbody>\n",
       "</table>\n",
       "<p>5 rows × 30 columns</p>\n",
       "</div>"
      ],
      "text/plain": [
       "            x1        x2        x3        x4        x5        x6        x7  \\\n",
       "1501  0.523841  0.380018  1.397668  1.832757 -0.050539 -0.370155 -0.415394   \n",
       "2586  0.427962  0.736934 -1.337873 -0.286005  1.022151 -1.001614  1.835519   \n",
       "2653 -1.237790  0.022987  0.591727  0.153331 -1.080162  0.695919 -0.224618   \n",
       "1055  1.163302  0.829281 -0.052936  0.871349  0.526932 -0.469475  0.681055   \n",
       "705  -0.916867 -0.873641  0.964425 -3.404521 -0.352093  0.141089  0.059867   \n",
       "\n",
       "            x8        x9       x10  ...       x21       x22       x23  \\\n",
       "1501 -1.015830 -0.468665  1.118904  ... -1.087076  0.280815  1.197157   \n",
       "2586 -1.545811  0.770498  0.293343  ... -0.316910  0.912012 -0.200186   \n",
       "2653 -1.372016 -0.465166  2.577988  ...  0.420588 -0.927035 -1.260994   \n",
       "1055  2.525169  0.805937 -0.311984  ... -0.363881 -1.270352 -0.114835   \n",
       "705  -0.401822  0.274345  1.985234  ... -0.846910  1.259358 -0.624477   \n",
       "\n",
       "           x24       x25       x26       x27       x28       x29       x30  \n",
       "1501 -0.330182 -0.384110  0.456972  0.408793  0.229924  0.065080 -0.460325  \n",
       "2586  0.895191 -1.340780 -0.398981 -1.299802 -1.160043  0.238474 -0.353788  \n",
       "2653 -0.041976  0.559996 -0.025339  0.715960 -2.211627 -0.158048  0.088334  \n",
       "1055 -0.838927  0.522602  0.531030 -0.113249 -0.130759 -1.530358  0.355058  \n",
       "705   0.947502  0.249482 -0.340038 -0.624088  0.983280  1.321964  0.613101  \n",
       "\n",
       "[5 rows x 30 columns]"
      ]
     },
     "execution_count": 20,
     "metadata": {},
     "output_type": "execute_result"
    }
   ],
   "source": [
    "xtest.head()"
   ]
  },
  {
   "cell_type": "code",
   "execution_count": 21,
   "metadata": {},
   "outputs": [
    {
     "data": {
      "text/html": [
       "<div>\n",
       "<style scoped>\n",
       "    .dataframe tbody tr th:only-of-type {\n",
       "        vertical-align: middle;\n",
       "    }\n",
       "\n",
       "    .dataframe tbody tr th {\n",
       "        vertical-align: top;\n",
       "    }\n",
       "\n",
       "    .dataframe thead th {\n",
       "        text-align: right;\n",
       "    }\n",
       "</style>\n",
       "<table border=\"1\" class=\"dataframe\">\n",
       "  <thead>\n",
       "    <tr style=\"text-align: right;\">\n",
       "      <th></th>\n",
       "      <th>Y</th>\n",
       "    </tr>\n",
       "  </thead>\n",
       "  <tbody>\n",
       "    <tr>\n",
       "      <th>1501</th>\n",
       "      <td>297.782677</td>\n",
       "    </tr>\n",
       "    <tr>\n",
       "      <th>2586</th>\n",
       "      <td>-55.418700</td>\n",
       "    </tr>\n",
       "    <tr>\n",
       "      <th>2653</th>\n",
       "      <td>-181.896454</td>\n",
       "    </tr>\n",
       "    <tr>\n",
       "      <th>1055</th>\n",
       "      <td>210.251382</td>\n",
       "    </tr>\n",
       "    <tr>\n",
       "      <th>705</th>\n",
       "      <td>188.412050</td>\n",
       "    </tr>\n",
       "  </tbody>\n",
       "</table>\n",
       "</div>"
      ],
      "text/plain": [
       "               Y\n",
       "1501  297.782677\n",
       "2586  -55.418700\n",
       "2653 -181.896454\n",
       "1055  210.251382\n",
       "705   188.412050"
      ]
     },
     "execution_count": 21,
     "metadata": {},
     "output_type": "execute_result"
    }
   ],
   "source": [
    "ytest.head()"
   ]
  },
  {
   "cell_type": "code",
   "execution_count": 22,
   "metadata": {},
   "outputs": [
    {
     "data": {
      "text/plain": [
       "(4000, 30)"
      ]
     },
     "execution_count": 22,
     "metadata": {},
     "output_type": "execute_result"
    }
   ],
   "source": [
    "xtrain.shape"
   ]
  },
  {
   "cell_type": "code",
   "execution_count": 23,
   "metadata": {},
   "outputs": [
    {
     "data": {
      "text/plain": [
       "(1000, 30)"
      ]
     },
     "execution_count": 23,
     "metadata": {},
     "output_type": "execute_result"
    }
   ],
   "source": [
    "xtest.shape"
   ]
  },
  {
   "cell_type": "code",
   "execution_count": 24,
   "metadata": {},
   "outputs": [
    {
     "data": {
      "text/plain": [
       "30"
      ]
     },
     "execution_count": 24,
     "metadata": {},
     "output_type": "execute_result"
    }
   ],
   "source": [
    "xtrain.shape[1]"
   ]
  },
  {
   "cell_type": "markdown",
   "metadata": {},
   "source": [
    "### create a neural network with keras"
   ]
  },
  {
   "attachments": {
    "image.png": {
     "image/png": "[encoded data removed]"
    }
   },
   "cell_type": "markdown",
   "metadata": {},
   "source": [
    "![image.png](attachment:image.png)"
   ]
  },
  {
   "cell_type": "code",
   "execution_count": 25,
   "metadata": {},
   "outputs": [
    {
     "name": "stdout",
     "output_type": "stream",
     "text": [
      "WARNING:tensorflow:From e:\\etlhive skype recordings\\Deep learning 2-4 pm\\repository\\venv\\lib\\site-packages\\keras\\src\\losses.py:2976: The name tf.losses.sparse_softmax_cross_entropy is deprecated. Please use tf.compat.v1.losses.sparse_softmax_cross_entropy instead.\n",
      "\n"
     ]
    }
   ],
   "source": [
    "from keras.models import Sequential\n",
    "from keras.layers import Dense"
   ]
  },
  {
   "cell_type": "code",
   "execution_count": 26,
   "metadata": {},
   "outputs": [
    {
     "name": "stdout",
     "output_type": "stream",
     "text": [
      "WARNING:tensorflow:From e:\\etlhive skype recordings\\Deep learning 2-4 pm\\repository\\venv\\lib\\site-packages\\keras\\src\\backend.py:873: The name tf.get_default_graph is deprecated. Please use tf.compat.v1.get_default_graph instead.\n",
      "\n"
     ]
    }
   ],
   "source": [
    "#  Initialize sequential model\n",
    "model = Sequential()\n",
    "\n",
    "# Hidden layer 1\n",
    "model.add(Dense(64, activation='relu',input_dim=xtrain.shape[1]))\n",
    "# Hidden layer 2\n",
    "model.add(Dense(32, activation='relu'))\n",
    "# output layer \n",
    "model.add (Dense(1,activation='linear'))"
   ]
  },
  {
   "cell_type": "code",
   "execution_count": 27,
   "metadata": {},
   "outputs": [
    {
     "name": "stdout",
     "output_type": "stream",
     "text": [
      "Model: \"sequential\"\n",
      "_________________________________________________________________\n",
      " Layer (type)                Output Shape              Param #   \n",
      "=================================================================\n",
      " dense (Dense)               (None, 64)                1984      \n",
      "                                                                 \n",
      " dense_1 (Dense)             (None, 32)                2080      \n",
      "                                                                 \n",
      " dense_2 (Dense)             (None, 1)                 33        \n",
      "                                                                 \n",
      "=================================================================\n",
      "Total params: 4097 (16.00 KB)\n",
      "Trainable params: 4097 (16.00 KB)\n",
      "Non-trainable params: 0 (0.00 Byte)\n",
      "_________________________________________________________________\n"
     ]
    }
   ],
   "source": [
    "model.summary()"
   ]
  },
  {
   "cell_type": "markdown",
   "metadata": {},
   "source": [
    "### Compile the model"
   ]
  },
  {
   "cell_type": "code",
   "execution_count": 28,
   "metadata": {},
   "outputs": [
    {
     "name": "stdout",
     "output_type": "stream",
     "text": [
      "WARNING:tensorflow:From e:\\etlhive skype recordings\\Deep learning 2-4 pm\\repository\\venv\\lib\\site-packages\\keras\\src\\optimizers\\__init__.py:309: The name tf.train.Optimizer is deprecated. Please use tf.compat.v1.train.Optimizer instead.\n",
      "\n"
     ]
    }
   ],
   "source": [
    "model.compile(optimizer='adam',loss='mse',metrics=['mae'])"
   ]
  },
  {
   "cell_type": "markdown",
   "metadata": {},
   "source": [
    "### Training the neural network"
   ]
  },
  {
   "attachments": {
    "image.png": {
     "image/png": "[encoded data removed]"
    }
   },
   "cell_type": "markdown",
   "metadata": {},
   "source": [
    "![image.png](attachment:image.png)"
   ]
  },
  {
   "cell_type": "code",
   "execution_count": 29,
   "metadata": {},
   "outputs": [
    {
     "name": "stdout",
     "output_type": "stream",
     "text": [
      "Epoch 1/100\n",
      "WARNING:tensorflow:From e:\\etlhive skype recordings\\Deep learning 2-4 pm\\repository\\venv\\lib\\site-packages\\keras\\src\\utils\\tf_utils.py:492: The name tf.ragged.RaggedTensorValue is deprecated. Please use tf.compat.v1.ragged.RaggedTensorValue instead.\n",
      "\n",
      "WARNING:tensorflow:From e:\\etlhive skype recordings\\Deep learning 2-4 pm\\repository\\venv\\lib\\site-packages\\keras\\src\\engine\\base_layer_utils.py:384: The name tf.executing_eagerly_outside_functions is deprecated. Please use tf.compat.v1.executing_eagerly_outside_functions instead.\n",
      "\n",
      "100/100 [==============================] - 3s 6ms/step - loss: 66826.9688 - mae: 207.1901 - val_loss: 67920.5469 - val_mae: 207.6568\n",
      "Epoch 2/100\n",
      "100/100 [==============================] - 0s 2ms/step - loss: 55532.9688 - mae: 187.1683 - val_loss: 43403.4141 - val_mae: 163.1550\n",
      "Epoch 3/100\n",
      "100/100 [==============================] - 0s 3ms/step - loss: 23160.0254 - mae: 111.8342 - val_loss: 8266.9004 - val_mae: 62.6461\n",
      "Epoch 4/100\n",
      "100/100 [==============================] - 0s 3ms/step - loss: 3034.7781 - mae: 36.0509 - val_loss: 1160.2836 - val_mae: 24.6687\n",
      "Epoch 5/100\n",
      "100/100 [==============================] - 0s 2ms/step - loss: 810.9233 - mae: 21.7134 - val_loss: 670.2413 - val_mae: 19.6160\n",
      "Epoch 6/100\n",
      "100/100 [==============================] - 0s 2ms/step - loss: 503.7808 - mae: 17.3810 - val_loss: 481.6919 - val_mae: 16.9199\n",
      "Epoch 7/100\n",
      "100/100 [==============================] - 0s 3ms/step - loss: 417.5226 - mae: 15.9435 - val_loss: 431.0439 - val_mae: 16.0582\n",
      "Epoch 8/100\n",
      "100/100 [==============================] - 0s 2ms/step - loss: 385.8098 - mae: 15.3640 - val_loss: 399.5840 - val_mae: 15.6078\n",
      "Epoch 9/100\n",
      "100/100 [==============================] - 0s 3ms/step - loss: 363.0893 - mae: 14.8187 - val_loss: 384.4190 - val_mae: 15.3858\n",
      "Epoch 10/100\n",
      "100/100 [==============================] - 0s 2ms/step - loss: 343.7985 - mae: 14.4542 - val_loss: 364.3319 - val_mae: 15.0590\n",
      "Epoch 11/100\n",
      "100/100 [==============================] - 0s 3ms/step - loss: 324.6842 - mae: 14.0292 - val_loss: 341.9469 - val_mae: 14.5860\n",
      "Epoch 12/100\n",
      "100/100 [==============================] - 0s 3ms/step - loss: 307.1679 - mae: 13.6663 - val_loss: 329.3718 - val_mae: 14.2386\n",
      "Epoch 13/100\n",
      "100/100 [==============================] - 0s 3ms/step - loss: 289.7508 - mae: 13.2493 - val_loss: 314.9173 - val_mae: 13.8573\n",
      "Epoch 14/100\n",
      "100/100 [==============================] - 1s 8ms/step - loss: 271.6144 - mae: 12.7949 - val_loss: 292.8804 - val_mae: 13.4557\n",
      "Epoch 15/100\n",
      "100/100 [==============================] - 1s 8ms/step - loss: 256.5285 - mae: 12.4986 - val_loss: 285.4787 - val_mae: 13.1398\n",
      "Epoch 16/100\n",
      "100/100 [==============================] - 1s 7ms/step - loss: 241.2086 - mae: 12.1058 - val_loss: 268.9125 - val_mae: 12.7683\n",
      "Epoch 17/100\n",
      "100/100 [==============================] - 0s 2ms/step - loss: 226.8545 - mae: 11.6997 - val_loss: 256.8666 - val_mae: 12.4920\n",
      "Epoch 18/100\n",
      "100/100 [==============================] - 0s 2ms/step - loss: 210.9177 - mae: 11.3462 - val_loss: 244.0432 - val_mae: 12.2329\n",
      "Epoch 19/100\n",
      "100/100 [==============================] - 0s 2ms/step - loss: 197.8415 - mae: 10.9365 - val_loss: 231.8539 - val_mae: 11.9422\n",
      "Epoch 20/100\n",
      "100/100 [==============================] - 0s 3ms/step - loss: 186.5881 - mae: 10.6934 - val_loss: 221.4789 - val_mae: 11.6179\n",
      "Epoch 21/100\n",
      "100/100 [==============================] - 0s 2ms/step - loss: 175.7327 - mae: 10.3591 - val_loss: 219.1461 - val_mae: 11.6157\n",
      "Epoch 22/100\n",
      "100/100 [==============================] - 0s 2ms/step - loss: 164.6792 - mae: 9.9901 - val_loss: 203.5099 - val_mae: 11.2743\n",
      "Epoch 23/100\n",
      "100/100 [==============================] - 0s 4ms/step - loss: 155.2070 - mae: 9.7516 - val_loss: 194.6016 - val_mae: 11.0444\n",
      "Epoch 24/100\n",
      "100/100 [==============================] - 0s 3ms/step - loss: 145.7434 - mae: 9.4685 - val_loss: 190.9913 - val_mae: 10.9177\n",
      "Epoch 25/100\n",
      "100/100 [==============================] - 0s 2ms/step - loss: 138.3963 - mae: 9.2406 - val_loss: 182.5198 - val_mae: 10.6824\n",
      "Epoch 26/100\n",
      "100/100 [==============================] - 0s 3ms/step - loss: 130.7792 - mae: 8.9311 - val_loss: 170.2151 - val_mae: 10.3831\n",
      "Epoch 27/100\n",
      "100/100 [==============================] - 0s 2ms/step - loss: 123.8234 - mae: 8.7588 - val_loss: 163.6878 - val_mae: 10.1265\n",
      "Epoch 28/100\n",
      "100/100 [==============================] - 0s 2ms/step - loss: 117.6540 - mae: 8.5372 - val_loss: 161.9357 - val_mae: 10.0795\n",
      "Epoch 29/100\n",
      "100/100 [==============================] - 0s 2ms/step - loss: 113.1640 - mae: 8.3863 - val_loss: 158.2157 - val_mae: 9.9984\n",
      "Epoch 30/100\n",
      "100/100 [==============================] - 0s 3ms/step - loss: 109.1766 - mae: 8.2397 - val_loss: 153.9171 - val_mae: 9.8974\n",
      "Epoch 31/100\n",
      "100/100 [==============================] - 0s 3ms/step - loss: 103.7294 - mae: 8.0434 - val_loss: 152.9880 - val_mae: 9.8542\n",
      "Epoch 32/100\n",
      "100/100 [==============================] - 0s 2ms/step - loss: 101.3926 - mae: 7.9462 - val_loss: 147.2064 - val_mae: 9.7238\n",
      "Epoch 33/100\n",
      "100/100 [==============================] - 0s 2ms/step - loss: 98.3351 - mae: 7.8620 - val_loss: 142.8581 - val_mae: 9.5767\n",
      "Epoch 34/100\n",
      "100/100 [==============================] - 0s 2ms/step - loss: 96.0376 - mae: 7.7371 - val_loss: 143.6173 - val_mae: 9.6246\n",
      "Epoch 35/100\n",
      "100/100 [==============================] - 0s 2ms/step - loss: 93.9580 - mae: 7.6548 - val_loss: 140.9814 - val_mae: 9.5265\n",
      "Epoch 36/100\n",
      "100/100 [==============================] - 0s 3ms/step - loss: 91.9465 - mae: 7.5657 - val_loss: 140.0102 - val_mae: 9.4866\n",
      "Epoch 37/100\n",
      "100/100 [==============================] - 0s 2ms/step - loss: 90.3298 - mae: 7.5231 - val_loss: 140.9478 - val_mae: 9.5054\n",
      "Epoch 38/100\n",
      "100/100 [==============================] - 0s 2ms/step - loss: 88.0742 - mae: 7.4002 - val_loss: 137.1091 - val_mae: 9.4079\n",
      "Epoch 39/100\n",
      "100/100 [==============================] - 0s 3ms/step - loss: 85.7147 - mae: 7.3380 - val_loss: 138.7318 - val_mae: 9.4935\n",
      "Epoch 40/100\n",
      "100/100 [==============================] - 0s 2ms/step - loss: 86.7680 - mae: 7.3484 - val_loss: 135.6740 - val_mae: 9.3824\n",
      "Epoch 41/100\n",
      "100/100 [==============================] - 0s 2ms/step - loss: 84.3214 - mae: 7.2583 - val_loss: 138.8554 - val_mae: 9.4903\n",
      "Epoch 42/100\n",
      "100/100 [==============================] - 0s 2ms/step - loss: 82.7080 - mae: 7.1338 - val_loss: 134.8222 - val_mae: 9.3294\n",
      "Epoch 43/100\n",
      "100/100 [==============================] - 0s 2ms/step - loss: 82.5864 - mae: 7.1215 - val_loss: 135.3049 - val_mae: 9.3929\n",
      "Epoch 44/100\n",
      "100/100 [==============================] - 0s 2ms/step - loss: 81.6731 - mae: 7.1565 - val_loss: 136.2677 - val_mae: 9.4440\n",
      "Epoch 45/100\n",
      "100/100 [==============================] - 0s 2ms/step - loss: 80.7172 - mae: 7.0725 - val_loss: 134.3133 - val_mae: 9.3528\n",
      "Epoch 46/100\n",
      "100/100 [==============================] - 0s 2ms/step - loss: 80.0622 - mae: 7.0695 - val_loss: 137.6557 - val_mae: 9.4239\n",
      "Epoch 47/100\n",
      "100/100 [==============================] - 0s 4ms/step - loss: 79.8349 - mae: 7.0113 - val_loss: 133.1977 - val_mae: 9.3041\n",
      "Epoch 48/100\n",
      "100/100 [==============================] - 1s 9ms/step - loss: 78.2222 - mae: 6.9732 - val_loss: 133.5052 - val_mae: 9.3330\n",
      "Epoch 49/100\n",
      "100/100 [==============================] - 1s 9ms/step - loss: 77.5596 - mae: 6.9509 - val_loss: 135.6438 - val_mae: 9.3860\n",
      "Epoch 50/100\n",
      "100/100 [==============================] - 1s 9ms/step - loss: 77.1450 - mae: 6.8991 - val_loss: 136.6845 - val_mae: 9.3520\n",
      "Epoch 51/100\n",
      "100/100 [==============================] - 0s 2ms/step - loss: 76.4339 - mae: 6.8696 - val_loss: 136.4754 - val_mae: 9.4321\n",
      "Epoch 52/100\n",
      "100/100 [==============================] - 0s 2ms/step - loss: 75.8635 - mae: 6.8213 - val_loss: 136.0960 - val_mae: 9.3790\n",
      "Epoch 53/100\n",
      "100/100 [==============================] - 0s 2ms/step - loss: 74.4966 - mae: 6.7468 - val_loss: 134.4312 - val_mae: 9.3015\n",
      "Epoch 54/100\n",
      "100/100 [==============================] - 0s 3ms/step - loss: 74.9618 - mae: 6.7667 - val_loss: 133.0616 - val_mae: 9.3040\n",
      "Epoch 55/100\n",
      "100/100 [==============================] - 0s 2ms/step - loss: 74.3757 - mae: 6.7209 - val_loss: 135.7697 - val_mae: 9.4691\n",
      "Epoch 56/100\n",
      "100/100 [==============================] - 0s 2ms/step - loss: 73.6320 - mae: 6.7351 - val_loss: 137.8486 - val_mae: 9.4422\n",
      "Epoch 57/100\n",
      "100/100 [==============================] - 0s 2ms/step - loss: 73.0287 - mae: 6.7024 - val_loss: 135.5330 - val_mae: 9.3729\n",
      "Epoch 58/100\n",
      "100/100 [==============================] - 0s 2ms/step - loss: 73.8459 - mae: 6.7331 - val_loss: 135.4168 - val_mae: 9.2919\n",
      "Epoch 59/100\n",
      "100/100 [==============================] - 0s 3ms/step - loss: 73.0966 - mae: 6.7014 - val_loss: 135.8159 - val_mae: 9.3899\n",
      "Epoch 60/100\n",
      "100/100 [==============================] - 0s 3ms/step - loss: 71.3122 - mae: 6.5878 - val_loss: 135.4377 - val_mae: 9.3794\n",
      "Epoch 61/100\n",
      "100/100 [==============================] - 0s 2ms/step - loss: 71.7105 - mae: 6.6168 - val_loss: 138.9042 - val_mae: 9.4800\n",
      "Epoch 62/100\n",
      "100/100 [==============================] - 0s 2ms/step - loss: 70.8182 - mae: 6.6113 - val_loss: 136.8243 - val_mae: 9.4273\n",
      "Epoch 63/100\n",
      "100/100 [==============================] - 0s 3ms/step - loss: 70.3217 - mae: 6.5344 - val_loss: 135.7414 - val_mae: 9.3827\n",
      "Epoch 64/100\n",
      "100/100 [==============================] - 0s 2ms/step - loss: 69.5226 - mae: 6.4935 - val_loss: 133.3409 - val_mae: 9.3517\n",
      "Epoch 65/100\n",
      "100/100 [==============================] - 0s 2ms/step - loss: 70.1830 - mae: 6.5487 - val_loss: 133.4789 - val_mae: 9.3385\n",
      "Epoch 66/100\n",
      "100/100 [==============================] - 0s 2ms/step - loss: 68.8481 - mae: 6.4723 - val_loss: 135.9430 - val_mae: 9.5098\n",
      "Epoch 67/100\n",
      "100/100 [==============================] - 0s 2ms/step - loss: 69.7125 - mae: 6.5167 - val_loss: 135.8413 - val_mae: 9.4102\n",
      "Epoch 68/100\n",
      "100/100 [==============================] - 0s 3ms/step - loss: 68.2068 - mae: 6.4382 - val_loss: 144.4020 - val_mae: 9.6577\n",
      "Epoch 69/100\n",
      "100/100 [==============================] - 0s 2ms/step - loss: 68.5762 - mae: 6.4715 - val_loss: 134.0607 - val_mae: 9.3610\n",
      "Epoch 70/100\n",
      "100/100 [==============================] - 0s 2ms/step - loss: 66.7029 - mae: 6.3768 - val_loss: 137.0335 - val_mae: 9.5110\n",
      "Epoch 71/100\n",
      "100/100 [==============================] - 0s 2ms/step - loss: 67.5830 - mae: 6.4037 - val_loss: 142.1506 - val_mae: 9.5648\n",
      "Epoch 72/100\n",
      "100/100 [==============================] - 0s 3ms/step - loss: 66.9917 - mae: 6.3541 - val_loss: 138.8993 - val_mae: 9.5091\n",
      "Epoch 73/100\n",
      "100/100 [==============================] - 0s 2ms/step - loss: 67.4033 - mae: 6.3925 - val_loss: 135.9226 - val_mae: 9.3701\n",
      "Epoch 74/100\n",
      "100/100 [==============================] - 0s 2ms/step - loss: 65.6828 - mae: 6.3053 - val_loss: 138.3431 - val_mae: 9.4709\n",
      "Epoch 75/100\n",
      "100/100 [==============================] - 0s 2ms/step - loss: 65.8073 - mae: 6.3479 - val_loss: 143.8654 - val_mae: 9.6388\n",
      "Epoch 76/100\n",
      "100/100 [==============================] - 0s 2ms/step - loss: 66.5509 - mae: 6.3540 - val_loss: 137.9359 - val_mae: 9.5246\n",
      "Epoch 77/100\n",
      "100/100 [==============================] - 0s 3ms/step - loss: 65.4717 - mae: 6.2938 - val_loss: 138.0470 - val_mae: 9.3994\n",
      "Epoch 78/100\n",
      "100/100 [==============================] - 0s 2ms/step - loss: 64.8545 - mae: 6.2549 - val_loss: 137.3099 - val_mae: 9.5294\n",
      "Epoch 79/100\n",
      "100/100 [==============================] - 0s 2ms/step - loss: 64.2594 - mae: 6.2290 - val_loss: 134.8779 - val_mae: 9.3318\n",
      "Epoch 80/100\n",
      "100/100 [==============================] - 0s 2ms/step - loss: 65.4363 - mae: 6.3232 - val_loss: 141.6586 - val_mae: 9.5939\n",
      "Epoch 81/100\n",
      "100/100 [==============================] - 0s 2ms/step - loss: 63.2886 - mae: 6.1711 - val_loss: 138.0355 - val_mae: 9.5914\n",
      "Epoch 82/100\n",
      "100/100 [==============================] - 0s 2ms/step - loss: 64.3810 - mae: 6.2106 - val_loss: 135.0752 - val_mae: 9.3713\n",
      "Epoch 83/100\n",
      "100/100 [==============================] - 0s 3ms/step - loss: 63.0950 - mae: 6.1785 - val_loss: 138.1768 - val_mae: 9.4667\n",
      "Epoch 84/100\n",
      "100/100 [==============================] - 0s 3ms/step - loss: 62.1164 - mae: 6.1143 - val_loss: 138.3804 - val_mae: 9.4761\n",
      "Epoch 85/100\n",
      "100/100 [==============================] - 0s 2ms/step - loss: 62.5001 - mae: 6.1261 - val_loss: 143.1040 - val_mae: 9.6559\n",
      "Epoch 86/100\n",
      "100/100 [==============================] - 0s 2ms/step - loss: 61.9867 - mae: 6.1401 - val_loss: 139.6442 - val_mae: 9.4948\n",
      "Epoch 87/100\n",
      "100/100 [==============================] - 0s 2ms/step - loss: 61.2232 - mae: 6.0897 - val_loss: 138.2082 - val_mae: 9.4803\n",
      "Epoch 88/100\n",
      "100/100 [==============================] - 0s 2ms/step - loss: 61.2121 - mae: 6.0957 - val_loss: 139.0938 - val_mae: 9.4788\n",
      "Epoch 89/100\n",
      "100/100 [==============================] - 0s 2ms/step - loss: 61.7546 - mae: 6.1188 - val_loss: 141.7222 - val_mae: 9.6005\n",
      "Epoch 90/100\n",
      "100/100 [==============================] - 0s 3ms/step - loss: 62.1417 - mae: 6.1512 - val_loss: 135.2209 - val_mae: 9.4237\n",
      "Epoch 91/100\n",
      "100/100 [==============================] - 0s 2ms/step - loss: 60.9005 - mae: 6.0548 - val_loss: 140.1519 - val_mae: 9.5272\n",
      "Epoch 92/100\n",
      "100/100 [==============================] - 0s 2ms/step - loss: 59.0168 - mae: 6.0000 - val_loss: 137.4656 - val_mae: 9.4605\n",
      "Epoch 93/100\n",
      "100/100 [==============================] - 0s 2ms/step - loss: 59.7735 - mae: 5.9895 - val_loss: 137.5184 - val_mae: 9.4882\n",
      "Epoch 94/100\n",
      "100/100 [==============================] - 0s 3ms/step - loss: 59.3382 - mae: 5.9872 - val_loss: 138.5439 - val_mae: 9.5566\n",
      "Epoch 95/100\n",
      "100/100 [==============================] - 0s 2ms/step - loss: 59.6971 - mae: 5.9963 - val_loss: 139.1194 - val_mae: 9.4776\n",
      "Epoch 96/100\n",
      "100/100 [==============================] - 0s 3ms/step - loss: 58.3683 - mae: 5.9005 - val_loss: 139.9174 - val_mae: 9.5894\n",
      "Epoch 97/100\n",
      "100/100 [==============================] - 0s 2ms/step - loss: 58.7883 - mae: 5.9577 - val_loss: 145.5849 - val_mae: 9.6895\n",
      "Epoch 98/100\n",
      "100/100 [==============================] - 0s 2ms/step - loss: 59.6786 - mae: 5.9913 - val_loss: 137.5072 - val_mae: 9.5269\n",
      "Epoch 99/100\n",
      "100/100 [==============================] - 0s 3ms/step - loss: 58.3666 - mae: 5.9318 - val_loss: 143.7925 - val_mae: 9.7048\n",
      "Epoch 100/100\n",
      "100/100 [==============================] - 0s 3ms/step - loss: 58.0016 - mae: 5.8817 - val_loss: 143.4727 - val_mae: 9.5485\n"
     ]
    }
   ],
   "source": [
    "hist = model.fit(xtrain,ytrain,validation_split=0.2, epochs=100)"
   ]
  },
  {
   "cell_type": "code",
   "execution_count": 30,
   "metadata": {},
   "outputs": [
    {
     "data": {
      "text/plain": [
       "[66826.96875,\n",
       " 55532.96875,\n",
       " 23160.025390625,\n",
       " 3034.778076171875,\n",
       " 810.92333984375,\n",
       " 503.7807922363281,\n",
       " 417.5225830078125,\n",
       " 385.80975341796875,\n",
       " 363.0892639160156,\n",
       " 343.79852294921875,\n",
       " 324.6841735839844,\n",
       " 307.1678771972656,\n",
       " 289.75079345703125,\n",
       " 271.6144104003906,\n",
       " 256.5285339355469,\n",
       " 241.20864868164062,\n",
       " 226.8544921875,\n",
       " 210.91769409179688,\n",
       " 197.84146118164062,\n",
       " 186.58811950683594,\n",
       " 175.73268127441406,\n",
       " 164.67919921875,\n",
       " 155.20697021484375,\n",
       " 145.74342346191406,\n",
       " 138.39630126953125,\n",
       " 130.77923583984375,\n",
       " 123.82341766357422,\n",
       " 117.65399169921875,\n",
       " 113.16397094726562,\n",
       " 109.1766128540039,\n",
       " 103.7293930053711,\n",
       " 101.3926010131836,\n",
       " 98.33509826660156,\n",
       " 96.0375747680664,\n",
       " 93.9580307006836,\n",
       " 91.946533203125,\n",
       " 90.32980346679688,\n",
       " 88.07422637939453,\n",
       " 85.71473693847656,\n",
       " 86.76797485351562,\n",
       " 84.3214340209961,\n",
       " 82.7080078125,\n",
       " 82.58636474609375,\n",
       " 81.67312622070312,\n",
       " 80.71723937988281,\n",
       " 80.0622329711914,\n",
       " 79.8349380493164,\n",
       " 78.22222900390625,\n",
       " 77.55963134765625,\n",
       " 77.14498901367188,\n",
       " 76.43388366699219,\n",
       " 75.863525390625,\n",
       " 74.4966049194336,\n",
       " 74.96179962158203,\n",
       " 74.37574005126953,\n",
       " 73.63196563720703,\n",
       " 73.02873229980469,\n",
       " 73.84590148925781,\n",
       " 73.09663391113281,\n",
       " 71.31224060058594,\n",
       " 71.71048736572266,\n",
       " 70.81818389892578,\n",
       " 70.32174682617188,\n",
       " 69.5225601196289,\n",
       " 70.18301391601562,\n",
       " 68.84808349609375,\n",
       " 69.71246337890625,\n",
       " 68.20681762695312,\n",
       " 68.57617950439453,\n",
       " 66.70286560058594,\n",
       " 67.5830307006836,\n",
       " 66.9917221069336,\n",
       " 67.40332794189453,\n",
       " 65.68281555175781,\n",
       " 65.80725860595703,\n",
       " 66.55087280273438,\n",
       " 65.47174072265625,\n",
       " 64.85453796386719,\n",
       " 64.2593994140625,\n",
       " 65.43627166748047,\n",
       " 63.28861999511719,\n",
       " 64.3809814453125,\n",
       " 63.09502029418945,\n",
       " 62.11643600463867,\n",
       " 62.500064849853516,\n",
       " 61.986717224121094,\n",
       " 61.22324752807617,\n",
       " 61.21210479736328,\n",
       " 61.75458526611328,\n",
       " 62.141685485839844,\n",
       " 60.900535583496094,\n",
       " 59.016841888427734,\n",
       " 59.77348327636719,\n",
       " 59.33815383911133,\n",
       " 59.6971321105957,\n",
       " 58.36827087402344,\n",
       " 58.78831481933594,\n",
       " 59.678550720214844,\n",
       " 58.3665885925293,\n",
       " 58.001590728759766]"
      ]
     },
     "execution_count": 30,
     "metadata": {},
     "output_type": "execute_result"
    }
   ],
   "source": [
    "hist.history['loss']"
   ]
  },
  {
   "cell_type": "code",
   "execution_count": 31,
   "metadata": {},
   "outputs": [
    {
     "data": {
      "text/plain": [
       "[67920.546875,\n",
       " 43403.4140625,\n",
       " 8266.900390625,\n",
       " 1160.2835693359375,\n",
       " 670.2412719726562,\n",
       " 481.6919250488281,\n",
       " 431.0439453125,\n",
       " 399.5839538574219,\n",
       " 384.4190368652344,\n",
       " 364.3319396972656,\n",
       " 341.9468688964844,\n",
       " 329.3717956542969,\n",
       " 314.9173278808594,\n",
       " 292.8804016113281,\n",
       " 285.47869873046875,\n",
       " 268.9124755859375,\n",
       " 256.8666076660156,\n",
       " 244.04318237304688,\n",
       " 231.85391235351562,\n",
       " 221.4789276123047,\n",
       " 219.1460723876953,\n",
       " 203.50991821289062,\n",
       " 194.6016387939453,\n",
       " 190.99134826660156,\n",
       " 182.5198211669922,\n",
       " 170.21511840820312,\n",
       " 163.68780517578125,\n",
       " 161.9357452392578,\n",
       " 158.21572875976562,\n",
       " 153.91714477539062,\n",
       " 152.9879913330078,\n",
       " 147.20639038085938,\n",
       " 142.85809326171875,\n",
       " 143.61734008789062,\n",
       " 140.98143005371094,\n",
       " 140.0102081298828,\n",
       " 140.9477996826172,\n",
       " 137.109130859375,\n",
       " 138.73175048828125,\n",
       " 135.6739501953125,\n",
       " 138.8554229736328,\n",
       " 134.8222198486328,\n",
       " 135.30491638183594,\n",
       " 136.26773071289062,\n",
       " 134.31326293945312,\n",
       " 137.65574645996094,\n",
       " 133.1977081298828,\n",
       " 133.5052032470703,\n",
       " 135.64381408691406,\n",
       " 136.68447875976562,\n",
       " 136.47540283203125,\n",
       " 136.09600830078125,\n",
       " 134.43121337890625,\n",
       " 133.0616455078125,\n",
       " 135.7697296142578,\n",
       " 137.84861755371094,\n",
       " 135.5330047607422,\n",
       " 135.41683959960938,\n",
       " 135.81590270996094,\n",
       " 135.43768310546875,\n",
       " 138.90423583984375,\n",
       " 136.8243408203125,\n",
       " 135.7414093017578,\n",
       " 133.34088134765625,\n",
       " 133.47894287109375,\n",
       " 135.94302368164062,\n",
       " 135.84127807617188,\n",
       " 144.4020233154297,\n",
       " 134.06065368652344,\n",
       " 137.03350830078125,\n",
       " 142.1505584716797,\n",
       " 138.8992919921875,\n",
       " 135.92259216308594,\n",
       " 138.3430938720703,\n",
       " 143.8654327392578,\n",
       " 137.9359130859375,\n",
       " 138.04696655273438,\n",
       " 137.3099365234375,\n",
       " 134.87789916992188,\n",
       " 141.65855407714844,\n",
       " 138.03549194335938,\n",
       " 135.07521057128906,\n",
       " 138.17684936523438,\n",
       " 138.38035583496094,\n",
       " 143.1040496826172,\n",
       " 139.6442413330078,\n",
       " 138.20816040039062,\n",
       " 139.0937957763672,\n",
       " 141.7222442626953,\n",
       " 135.22085571289062,\n",
       " 140.1519012451172,\n",
       " 137.46563720703125,\n",
       " 137.5183563232422,\n",
       " 138.5438995361328,\n",
       " 139.11936950683594,\n",
       " 139.91738891601562,\n",
       " 145.58486938476562,\n",
       " 137.50723266601562,\n",
       " 143.79248046875,\n",
       " 143.47271728515625]"
      ]
     },
     "execution_count": 31,
     "metadata": {},
     "output_type": "execute_result"
    }
   ],
   "source": [
    "hist.history['val_loss']"
   ]
  },
  {
   "cell_type": "code",
   "execution_count": 32,
   "metadata": {},
   "outputs": [
    {
     "data": {
      "text/plain": [
       "[207.65675354003906,\n",
       " 163.15504455566406,\n",
       " 62.64613723754883,\n",
       " 24.668720245361328,\n",
       " 19.615989685058594,\n",
       " 16.919893264770508,\n",
       " 16.058212280273438,\n",
       " 15.607796669006348,\n",
       " 15.385760307312012,\n",
       " 15.059013366699219,\n",
       " 14.585967063903809,\n",
       " 14.238587379455566,\n",
       " 13.857276916503906,\n",
       " 13.45571517944336,\n",
       " 13.139812469482422,\n",
       " 12.768299102783203,\n",
       " 12.491998672485352,\n",
       " 12.23294448852539,\n",
       " 11.942235946655273,\n",
       " 11.617897987365723,\n",
       " 11.615734100341797,\n",
       " 11.274338722229004,\n",
       " 11.044371604919434,\n",
       " 10.917671203613281,\n",
       " 10.682354927062988,\n",
       " 10.3831205368042,\n",
       " 10.126466751098633,\n",
       " 10.079538345336914,\n",
       " 9.998373985290527,\n",
       " 9.897407531738281,\n",
       " 9.854188919067383,\n",
       " 9.723780632019043,\n",
       " 9.576675415039062,\n",
       " 9.624608039855957,\n",
       " 9.526473045349121,\n",
       " 9.486625671386719,\n",
       " 9.505443572998047,\n",
       " 9.407901763916016,\n",
       " 9.493468284606934,\n",
       " 9.382397651672363,\n",
       " 9.490321159362793,\n",
       " 9.329448699951172,\n",
       " 9.392900466918945,\n",
       " 9.443975448608398,\n",
       " 9.352834701538086,\n",
       " 9.423870086669922,\n",
       " 9.304062843322754,\n",
       " 9.333017349243164,\n",
       " 9.386014938354492,\n",
       " 9.352038383483887,\n",
       " 9.43214225769043,\n",
       " 9.379049301147461,\n",
       " 9.301460266113281,\n",
       " 9.30400562286377,\n",
       " 9.469085693359375,\n",
       " 9.442174911499023,\n",
       " 9.372947692871094,\n",
       " 9.29186725616455,\n",
       " 9.389925956726074,\n",
       " 9.379424095153809,\n",
       " 9.480020523071289,\n",
       " 9.427348136901855,\n",
       " 9.382658004760742,\n",
       " 9.351672172546387,\n",
       " 9.338468551635742,\n",
       " 9.509763717651367,\n",
       " 9.410208702087402,\n",
       " 9.657671928405762,\n",
       " 9.360995292663574,\n",
       " 9.511008262634277,\n",
       " 9.564848899841309,\n",
       " 9.509125709533691,\n",
       " 9.370050430297852,\n",
       " 9.470891952514648,\n",
       " 9.638819694519043,\n",
       " 9.52456283569336,\n",
       " 9.399447441101074,\n",
       " 9.529378890991211,\n",
       " 9.331811904907227,\n",
       " 9.593908309936523,\n",
       " 9.591371536254883,\n",
       " 9.371345520019531,\n",
       " 9.466743469238281,\n",
       " 9.476099014282227,\n",
       " 9.655893325805664,\n",
       " 9.494756698608398,\n",
       " 9.480319023132324,\n",
       " 9.478837966918945,\n",
       " 9.600464820861816,\n",
       " 9.423666000366211,\n",
       " 9.527231216430664,\n",
       " 9.460489273071289,\n",
       " 9.488183975219727,\n",
       " 9.556632995605469,\n",
       " 9.477558135986328,\n",
       " 9.589446067810059,\n",
       " 9.689472198486328,\n",
       " 9.526851654052734,\n",
       " 9.704782485961914,\n",
       " 9.548467636108398]"
      ]
     },
     "execution_count": 32,
     "metadata": {},
     "output_type": "execute_result"
    }
   ],
   "source": [
    "hist.history['val_mae']"
   ]
  },
  {
   "cell_type": "markdown",
   "metadata": {},
   "source": [
    "### Plot the learning curve"
   ]
  },
  {
   "cell_type": "code",
   "execution_count": 33,
   "metadata": {},
   "outputs": [
    {
     "data": {
      "image/png": "[encoded data removed]",
      "text/plain": [
       "<Figure size 1600x800 with 1 Axes>"
      ]
     },
     "metadata": {},
     "output_type": "display_data"
    }
   ],
   "source": [
    "import matplotlib.pyplot as plt\n",
    "plt.figure(figsize=(16,8))\n",
    "plt.plot(hist.history['loss'], label= 'Train MSE')\n",
    "plt.plot(hist.history['val_loss'], label= 'Validation MSE')\n",
    "plt.xlabel('Epochs')\n",
    "plt.ylabel('Mean Squared Error')\n",
    "plt.title('lerning curve')\n",
    "plt.legend()\n",
    "plt.show()\n"
   ]
  },
  {
   "cell_type": "markdown",
   "metadata": {},
   "source": [
    "### Evaluate the model"
   ]
  },
  {
   "cell_type": "code",
   "execution_count": 34,
   "metadata": {},
   "outputs": [
    {
     "name": "stdout",
     "output_type": "stream",
     "text": [
      "125/125 [==============================] - 0s 3ms/step - loss: 76.6129 - mae: 6.6802\n"
     ]
    },
    {
     "data": {
      "text/plain": [
       "[76.61286926269531, 6.680234909057617]"
      ]
     },
     "execution_count": 34,
     "metadata": {},
     "output_type": "execute_result"
    }
   ],
   "source": [
    "model.evaluate(xtrain, ytrain)"
   ]
  },
  {
   "cell_type": "code",
   "execution_count": 35,
   "metadata": {},
   "outputs": [
    {
     "name": "stdout",
     "output_type": "stream",
     "text": [
      "32/32 [==============================] - 0s 4ms/step - loss: 130.1280 - mae: 9.1533\n"
     ]
    },
    {
     "data": {
      "text/plain": [
       "[130.12803649902344, 9.153258323669434]"
      ]
     },
     "execution_count": 35,
     "metadata": {},
     "output_type": "execute_result"
    }
   ],
   "source": [
    "model.evaluate(xtest, ytest)"
   ]
  },
  {
   "cell_type": "markdown",
   "metadata": {},
   "source": [
    "### Predict train and test"
   ]
  },
  {
   "cell_type": "code",
   "execution_count": 36,
   "metadata": {},
   "outputs": [
    {
     "name": "stdout",
     "output_type": "stream",
     "text": [
      "125/125 [==============================] - 0s 2ms/step\n",
      "32/32 [==============================] - 0s 1ms/step\n"
     ]
    }
   ],
   "source": [
    "ypred_tr = model.predict(xtrain)\n",
    "ypred_ts = model.predict(xtest)"
   ]
  },
  {
   "cell_type": "code",
   "execution_count": 37,
   "metadata": {},
   "outputs": [
    {
     "data": {
      "text/plain": [
       "array([[ 413.06744],\n",
       "       [-460.02948],\n",
       "       [  33.7332 ],\n",
       "       [ 113.64464],\n",
       "       [-220.67897]], dtype=float32)"
      ]
     },
     "execution_count": 37,
     "metadata": {},
     "output_type": "execute_result"
    }
   ],
   "source": [
    "ypred_tr[0:5]"
   ]
  },
  {
   "cell_type": "code",
   "execution_count": 38,
   "metadata": {},
   "outputs": [
    {
     "data": {
      "text/html": [
       "<div>\n",
       "<style scoped>\n",
       "    .dataframe tbody tr th:only-of-type {\n",
       "        vertical-align: middle;\n",
       "    }\n",
       "\n",
       "    .dataframe tbody tr th {\n",
       "        vertical-align: top;\n",
       "    }\n",
       "\n",
       "    .dataframe thead th {\n",
       "        text-align: right;\n",
       "    }\n",
       "</style>\n",
       "<table border=\"1\" class=\"dataframe\">\n",
       "  <thead>\n",
       "    <tr style=\"text-align: right;\">\n",
       "      <th></th>\n",
       "      <th>Y</th>\n",
       "    </tr>\n",
       "  </thead>\n",
       "  <tbody>\n",
       "    <tr>\n",
       "      <th>4227</th>\n",
       "      <td>421.295025</td>\n",
       "    </tr>\n",
       "    <tr>\n",
       "      <th>4676</th>\n",
       "      <td>-469.452726</td>\n",
       "    </tr>\n",
       "    <tr>\n",
       "      <th>800</th>\n",
       "      <td>42.172815</td>\n",
       "    </tr>\n",
       "    <tr>\n",
       "      <th>3671</th>\n",
       "      <td>114.083914</td>\n",
       "    </tr>\n",
       "    <tr>\n",
       "      <th>4193</th>\n",
       "      <td>-217.535707</td>\n",
       "    </tr>\n",
       "  </tbody>\n",
       "</table>\n",
       "</div>"
      ],
      "text/plain": [
       "               Y\n",
       "4227  421.295025\n",
       "4676 -469.452726\n",
       "800    42.172815\n",
       "3671  114.083914\n",
       "4193 -217.535707"
      ]
     },
     "execution_count": 38,
     "metadata": {},
     "output_type": "execute_result"
    }
   ],
   "source": [
    "ytrain.head()"
   ]
  },
  {
   "cell_type": "code",
   "execution_count": 39,
   "metadata": {},
   "outputs": [
    {
     "data": {
      "text/plain": [
       "array([[ 295.33087],\n",
       "       [ -55.31469],\n",
       "       [-180.1863 ],\n",
       "       [ 229.77788],\n",
       "       [ 189.20786]], dtype=float32)"
      ]
     },
     "execution_count": 39,
     "metadata": {},
     "output_type": "execute_result"
    }
   ],
   "source": [
    "ypred_ts[0:5]"
   ]
  },
  {
   "cell_type": "code",
   "execution_count": 40,
   "metadata": {},
   "outputs": [
    {
     "data": {
      "text/html": [
       "<div>\n",
       "<style scoped>\n",
       "    .dataframe tbody tr th:only-of-type {\n",
       "        vertical-align: middle;\n",
       "    }\n",
       "\n",
       "    .dataframe tbody tr th {\n",
       "        vertical-align: top;\n",
       "    }\n",
       "\n",
       "    .dataframe thead th {\n",
       "        text-align: right;\n",
       "    }\n",
       "</style>\n",
       "<table border=\"1\" class=\"dataframe\">\n",
       "  <thead>\n",
       "    <tr style=\"text-align: right;\">\n",
       "      <th></th>\n",
       "      <th>Y</th>\n",
       "    </tr>\n",
       "  </thead>\n",
       "  <tbody>\n",
       "    <tr>\n",
       "      <th>1501</th>\n",
       "      <td>297.782677</td>\n",
       "    </tr>\n",
       "    <tr>\n",
       "      <th>2586</th>\n",
       "      <td>-55.418700</td>\n",
       "    </tr>\n",
       "    <tr>\n",
       "      <th>2653</th>\n",
       "      <td>-181.896454</td>\n",
       "    </tr>\n",
       "    <tr>\n",
       "      <th>1055</th>\n",
       "      <td>210.251382</td>\n",
       "    </tr>\n",
       "    <tr>\n",
       "      <th>705</th>\n",
       "      <td>188.412050</td>\n",
       "    </tr>\n",
       "  </tbody>\n",
       "</table>\n",
       "</div>"
      ],
      "text/plain": [
       "               Y\n",
       "1501  297.782677\n",
       "2586  -55.418700\n",
       "2653 -181.896454\n",
       "1055  210.251382\n",
       "705   188.412050"
      ]
     },
     "execution_count": 40,
     "metadata": {},
     "output_type": "execute_result"
    }
   ],
   "source": [
    "ytest.head()"
   ]
  },
  {
   "cell_type": "markdown",
   "metadata": {},
   "source": [
    "### Show R2 score in train and test"
   ]
  },
  {
   "cell_type": "code",
   "execution_count": 41,
   "metadata": {},
   "outputs": [
    {
     "name": "stdout",
     "output_type": "stream",
     "text": [
      "Training R2:0.9989\n"
     ]
    }
   ],
   "source": [
    "from sklearn.metrics import r2_score\n",
    "tr_r2 = r2_score(ytrain, ypred_tr)\n",
    "print(f'Training R2:{tr_r2:.4f}')"
   ]
  },
  {
   "cell_type": "code",
   "execution_count": 42,
   "metadata": {},
   "outputs": [
    {
     "name": "stdout",
     "output_type": "stream",
     "text": [
      "Testing R2: 0.9989\n"
     ]
    }
   ],
   "source": [
    "ts_r2 = r2_score(ytest, ypred_ts)\n",
    "print(f'Testing R2: {tr_r2:.4f}')"
   ]
  },
  {
   "cell_type": "markdown",
   "metadata": {},
   "source": [
    "### Save the model for future"
   ]
  },
  {
   "cell_type": "code",
   "execution_count": 43,
   "metadata": {},
   "outputs": [],
   "source": [
    "model.save('ExampleRegreassion.keras')"
   ]
  },
  {
   "cell_type": "markdown",
   "metadata": {},
   "source": [
    "### Loading the model"
   ]
  },
  {
   "cell_type": "code",
   "execution_count": 44,
   "metadata": {},
   "outputs": [],
   "source": [
    "from keras.models import load_model"
   ]
  },
  {
   "cell_type": "code",
   "execution_count": null,
   "metadata": {},
   "outputs": [],
   "source": []
  },
  {
   "cell_type": "code",
   "execution_count": 48,
   "metadata": {},
   "outputs": [
    {
     "ename": "OSError",
     "evalue": "No file or directory found at ExampleRegression.keras",
     "output_type": "error",
     "traceback": [
      "\u001b[1;31m---------------------------------------------------------------------------\u001b[0m",
      "\u001b[1;31mOSError\u001b[0m                                   Traceback (most recent call last)",
      "\u001b[1;32me:\\etlhive skype recordings\\Deep learning 2-4 pm\\repository\\Regression\\Regression.ipynb Cell 61\u001b[0m line \u001b[0;36m1\n\u001b[1;32m----> <a href='vscode-notebook-cell:/e%3A/etlhive%20skype%20recordings/Deep%20learning%202-4%20pm/repository/Regression/Regression.ipynb#Y123sZmlsZQ%3D%3D?line=0'>1</a>\u001b[0m load_model(\u001b[39m'\u001b[39;49m\u001b[39mExampleRegression.keras\u001b[39;49m\u001b[39m'\u001b[39;49m)\n",
      "File \u001b[1;32me:\\etlhive skype recordings\\Deep learning 2-4 pm\\repository\\venv\\lib\\site-packages\\keras\\src\\saving\\saving_api.py:262\u001b[0m, in \u001b[0;36mload_model\u001b[1;34m(filepath, custom_objects, compile, safe_mode, **kwargs)\u001b[0m\n\u001b[0;32m    254\u001b[0m     \u001b[39mreturn\u001b[39;00m saving_lib\u001b[39m.\u001b[39mload_model(\n\u001b[0;32m    255\u001b[0m         filepath,\n\u001b[0;32m    256\u001b[0m         custom_objects\u001b[39m=\u001b[39mcustom_objects,\n\u001b[0;32m    257\u001b[0m         \u001b[39mcompile\u001b[39m\u001b[39m=\u001b[39m\u001b[39mcompile\u001b[39m,\n\u001b[0;32m    258\u001b[0m         safe_mode\u001b[39m=\u001b[39msafe_mode,\n\u001b[0;32m    259\u001b[0m     )\n\u001b[0;32m    261\u001b[0m \u001b[39m# Legacy case.\u001b[39;00m\n\u001b[1;32m--> 262\u001b[0m \u001b[39mreturn\u001b[39;00m legacy_sm_saving_lib\u001b[39m.\u001b[39mload_model(\n\u001b[0;32m    263\u001b[0m     filepath, custom_objects\u001b[39m=\u001b[39mcustom_objects, \u001b[39mcompile\u001b[39m\u001b[39m=\u001b[39m\u001b[39mcompile\u001b[39m, \u001b[39m*\u001b[39m\u001b[39m*\u001b[39mkwargs\n\u001b[0;32m    264\u001b[0m )\n",
      "File \u001b[1;32me:\\etlhive skype recordings\\Deep learning 2-4 pm\\repository\\venv\\lib\\site-packages\\keras\\src\\utils\\traceback_utils.py:70\u001b[0m, in \u001b[0;36mfilter_traceback.<locals>.error_handler\u001b[1;34m(*args, **kwargs)\u001b[0m\n\u001b[0;32m     67\u001b[0m     filtered_tb \u001b[39m=\u001b[39m _process_traceback_frames(e\u001b[39m.\u001b[39m__traceback__)\n\u001b[0;32m     68\u001b[0m     \u001b[39m# To get the full stack trace, call:\u001b[39;00m\n\u001b[0;32m     69\u001b[0m     \u001b[39m# `tf.debugging.disable_traceback_filtering()`\u001b[39;00m\n\u001b[1;32m---> 70\u001b[0m     \u001b[39mraise\u001b[39;00m e\u001b[39m.\u001b[39mwith_traceback(filtered_tb) \u001b[39mfrom\u001b[39;00m \u001b[39mNone\u001b[39;00m\n\u001b[0;32m     71\u001b[0m \u001b[39mfinally\u001b[39;00m:\n\u001b[0;32m     72\u001b[0m     \u001b[39mdel\u001b[39;00m filtered_tb\n",
      "File \u001b[1;32me:\\etlhive skype recordings\\Deep learning 2-4 pm\\repository\\venv\\lib\\site-packages\\keras\\src\\saving\\legacy\\save.py:234\u001b[0m, in \u001b[0;36mload_model\u001b[1;34m(filepath, custom_objects, compile, options)\u001b[0m\n\u001b[0;32m    232\u001b[0m \u001b[39mif\u001b[39;00m \u001b[39misinstance\u001b[39m(filepath_str, \u001b[39mstr\u001b[39m):\n\u001b[0;32m    233\u001b[0m     \u001b[39mif\u001b[39;00m \u001b[39mnot\u001b[39;00m tf\u001b[39m.\u001b[39mio\u001b[39m.\u001b[39mgfile\u001b[39m.\u001b[39mexists(filepath_str):\n\u001b[1;32m--> 234\u001b[0m         \u001b[39mraise\u001b[39;00m \u001b[39mIOError\u001b[39;00m(\n\u001b[0;32m    235\u001b[0m             \u001b[39mf\u001b[39m\u001b[39m\"\u001b[39m\u001b[39mNo file or directory found at \u001b[39m\u001b[39m{\u001b[39;00mfilepath_str\u001b[39m}\u001b[39;00m\u001b[39m\"\u001b[39m\n\u001b[0;32m    236\u001b[0m         )\n\u001b[0;32m    238\u001b[0m     \u001b[39mif\u001b[39;00m tf\u001b[39m.\u001b[39mio\u001b[39m.\u001b[39mgfile\u001b[39m.\u001b[39misdir(filepath_str):\n\u001b[0;32m    239\u001b[0m         \u001b[39mreturn\u001b[39;00m saved_model_load\u001b[39m.\u001b[39mload(\n\u001b[0;32m    240\u001b[0m             filepath_str, \u001b[39mcompile\u001b[39m, options\n\u001b[0;32m    241\u001b[0m         )\n",
      "\u001b[1;31mOSError\u001b[0m: No file or directory found at ExampleRegression.keras"
     ]
    }
   ],
   "source": [
    "load_model('ExampleRegression.keras')"
   ]
  },
  {
   "cell_type": "code",
   "execution_count": null,
   "metadata": {},
   "outputs": [
    {
     "ename": "NameError",
     "evalue": "name 'nn' is not defined",
     "output_type": "error",
     "traceback": [
      "\u001b[1;31m---------------------------------------------------------------------------\u001b[0m",
      "\u001b[1;31mNameError\u001b[0m                                 Traceback (most recent call last)",
      "\u001b[1;32me:\\etlhive skype recordings\\Deep learning 2-4 pm\\repository\\Regression\\Regression.ipynb Cell 62\u001b[0m line \u001b[0;36m1\n\u001b[1;32m----> <a href='vscode-notebook-cell:/e%3A/etlhive%20skype%20recordings/Deep%20learning%202-4%20pm/repository/Regression/Regression.ipynb#Y124sZmlsZQ%3D%3D?line=0'>1</a>\u001b[0m nn\u001b[39m.\u001b[39msummery()\n",
      "\u001b[1;31mNameError\u001b[0m: name 'nn' is not defined"
     ]
    }
   ],
   "source": [
    "nn.summery()"
   ]
  },
  {
   "cell_type": "markdown",
   "metadata": {},
   "source": []
  },
  {
   "cell_type": "code",
   "execution_count": null,
   "metadata": {},
   "outputs": [],
   "source": []
  }
 ],
 "metadata": {
  "kernelspec": {
   "display_name": "venv",
   "language": "python",
   "name": "python3"
  },
  "language_info": {
   "codemirror_mode": {
    "name": "ipython",
    "version": 3
   },
   "file_extension": ".py",
   "mimetype": "text/x-python",
   "name": "python",
   "nbconvert_exporter": "python",
   "pygments_lexer": "ipython3",
   "version": "3.9.0"
  }
 },
 "nbformat": 4,
 "nbformat_minor": 2
}
